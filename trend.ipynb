{
 "cells": [
  {
   "cell_type": "code",
   "execution_count": 2,
   "id": "d9b14a87-9d9b-4eb9-b369-5338d015e5fc",
   "metadata": {},
   "outputs": [],
   "source": [
    "import pandas as pd\n",
    "import matplotlib.pyplot as plt\n",
    "import seaborn as sns\n",
    "from khayyam import JalaliDate\n",
    "import warnings\n",
    "warnings.filterwarnings('ignore')\n",
    "import matplotlib.ticker as mticker"
   ]
  },
  {
   "cell_type": "code",
   "execution_count": 3,
   "id": "8bc565b3-b419-4d39-ba5d-8847f04e153c",
   "metadata": {},
   "outputs": [
    {
     "name": "stdout",
     "output_type": "stream",
     "text": [
      "Columns in the original file: Index(['Address', 'weight', 'khanevartype', 'Takmil', 'province', 'town',\n",
      "       'tenure', 'room', 'space', 'construction', 'material', 'vehicle',\n",
      "       'motorcycle', 'bicycle', 'radio', 'radiotape', 'TVbw', 'TV',\n",
      "       'VHS_VCD_DVD', 'computer', 'cellphone', 'freezer', 'refridgerator',\n",
      "       'fridge', 'stove', 'vacuum', 'washingmachine', 'sewingmachine', 'fan',\n",
      "       'evapcoolingportable', 'splitportable', 'dishwasher', 'microwave',\n",
      "       'none', 'pipewater', 'electricity', 'pipegas', 'telephone', 'internet',\n",
      "       'bathroom', 'kitchen', 'evapcooling', 'centralcooling',\n",
      "       'centralheating', 'package', 'split', 'wastewater', 'cookingfuel',\n",
      "       'heatingfuel', 'waterheatingfuel', 'Cost1', 'Cost2', 'Cost3', 'Cost4',\n",
      "       'Cost5', 'Cost6', 'Cost7', 'Cost8', 'Cost9', 'Cost11', 'Cost12',\n",
      "       'Cost13', 'Cost14', 'HousePrice1', 'HousePrice2', 'Fuel', 'Car_Fuel',\n",
      "       'Benzin', 'Costs_sum', 'sum_netincome_w_m', 'sum_netincome_w_y', 'Fasl',\n",
      "       'Income_s_y', 'sum03_incomes', 'Subsidy', 'total_income',\n",
      "       'total_income_month', 'year', 'state', 'members', 'dollar_price'],\n",
      "      dtype='object')\n"
     ]
    }
   ],
   "source": [
    "data = pd.read_csv('df.csv')\n",
    "print(\"Columns in the original file:\", data.columns)"
   ]
  },
  {
   "cell_type": "code",
   "execution_count": 4,
   "id": "d3a4138c-a15e-4979-8f8e-ac03cb6c9a5f",
   "metadata": {},
   "outputs": [
    {
     "name": "stdout",
     "output_type": "stream",
     "text": [
      "       Address      weight  khanevartype  Takmil province  town  \\\n",
      "0  20001383908  171.199524             1       1  Markazi     1   \n",
      "1  20001383911  171.199524             1       2  Markazi     1   \n",
      "2  20001383915  171.199524             1       2  Markazi     1   \n",
      "3  20001383916  171.199524             1       1  Markazi     1   \n",
      "4  20001383920  171.199524             1       2  Markazi     1   \n",
      "\n",
      "            tenure  room  space  construction  ... Fasl   Income_s_y  \\\n",
      "0  OwnedEstateLand     3  100.0           3.0  ...  2.0  342000000.0   \n",
      "1  OwnedEstateLand     3   70.0           3.0  ...  2.0          0.0   \n",
      "2  OwnedEstateLand     3  100.0           3.0  ...  2.0  214500000.0   \n",
      "3  OwnedEstateLand     4  100.0           3.0  ...  2.0          0.0   \n",
      "4  OwnedEstateLand     3  100.0           3.0  ...  2.0          0.0   \n",
      "\n",
      "   sum03_incomes     Subsidy  total_income  total_income_month  year  state  \\\n",
      "0            0.0  21840000.0   363840000.0        3.032000e+07  0098      R   \n",
      "1     43000000.0  10920000.0    53920000.0        4.493333e+06  0098      R   \n",
      "2            0.0  10920000.0   225420000.0        1.878500e+07  0098      R   \n",
      "3            0.0  21840000.0   258200008.0        2.151667e+07  0098      R   \n",
      "4            0.0  27300000.0   243300000.0        2.027500e+07  0098      R   \n",
      "\n",
      "   members   dollar_price  \n",
      "0        4  120026.344086  \n",
      "1        2  120026.344086  \n",
      "2        2  120026.344086  \n",
      "3        8  120026.344086  \n",
      "4        5  120026.344086  \n",
      "\n",
      "[5 rows x 81 columns]\n"
     ]
    }
   ],
   "source": [
    "data['year'] = data['year'].apply(lambda x: JalaliDate(x, 1, 1).strftime('%Y'))\n",
    "print(data.head())"
   ]
  },
  {
   "cell_type": "code",
   "execution_count": 7,
   "id": "8a9ef944-3e1b-479b-8760-deca024d4afd",
   "metadata": {},
   "outputs": [],
   "source": [
    "def plot_household_expense_trend(data):\n",
    "    plt.figure(figsize=(12, 6))  \n",
    "    \n",
    "    # رسم نمودار خطی\n",
    "    sns.lineplot(data=data, x='year', y='Cost11', marker='o', color='blue')\n",
    "    plt.title('Household Expense Trend for Food, Hotel, and Restaurant', fontsize=14)\n",
    "    plt.xlabel('Year', fontsize=12)\n",
    "    plt.ylabel('Expense', fontsize=12)\n",
    "    \n",
    "    # تنظیم فرمت برای محور Y\n",
    "    ax = plt.gca()\n",
    "    ax.yaxis.set_major_formatter(mticker.StrMethodFormatter('{x:,.0f}'))\n",
    "\n",
    "    # اضافه کردن خطوط نقطه‌چین و برچسب هزینه‌ها\n",
    "    for index, row in data.iterrows():\n",
    "        plt.axvline(x=row['year'], linestyle='--', color='gray', alpha=0.5)\n",
    "        plt.text(row['year'], row['Cost11'], f\"{int(row['Cost11']):,}\", color='black', ha='right')\n",
    "\n",
    "    plt.tight_layout() \n",
    "    plt.show()"
   ]
  },
  {
   "cell_type": "code",
   "execution_count": 8,
   "id": "bb25754f-0e96-4aa9-a742-133af7dc1891",
   "metadata": {},
   "outputs": [],
   "source": [
    "plot_household_expense_trend(data)"
   ]
  }
 ],
 "metadata": {
  "kernelspec": {
   "display_name": "Python 3 (ipykernel)",
   "language": "python",
   "name": "python3"
  },
  "language_info": {
   "codemirror_mode": {
    "name": "ipython",
    "version": 3
   },
   "file_extension": ".py",
   "mimetype": "text/x-python",
   "name": "python",
   "nbconvert_exporter": "python",
   "pygments_lexer": "ipython3",
   "version": "3.12.0"
  }
 },
 "nbformat": 4,
 "nbformat_minor": 5
}

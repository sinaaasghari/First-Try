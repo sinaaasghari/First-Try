{
 "cells": [
  {
   "cell_type": "code",
   "execution_count": 18,
   "id": "a29044b1-8853-488e-83fc-6cad1f5065f0",
   "metadata": {},
   "outputs": [],
   "source": [
    "import numpy as np\n",
    "import pandas as pd\n",
    "import seaborn as sns"
   ]
  },
  {
   "cell_type": "markdown",
   "id": "d3626880-27c3-40df-bf1d-bc23f63412b0",
   "metadata": {},
   "source": [
    "### Reading and Merge Personal Information ( 2nd sheet of all files )"
   ]
  },
  {
   "cell_type": "code",
   "execution_count": 2,
   "id": "33a83bdf-2cb7-4997-8220-15bd0ee8aa8a",
   "metadata": {},
   "outputs": [
    {
     "name": "stdout",
     "output_type": "stream",
     "text": [
      "R 98\n",
      "R 99\n",
      "R 1400\n",
      "R 1401\n",
      "U 98\n",
      "U 99\n",
      "U 1400\n",
      "U 1401\n"
     ]
    }
   ],
   "source": [
    "personal_info=[]\n",
    "for a in ['R','U']:\n",
    "    temp=[]\n",
    "    for b in ['98','99','1400','1401']:\n",
    "        print(a,b)\n",
    "        sheet_name=pd.ExcelFile('data/'+a+b+'.xlsx').sheet_names[1]\n",
    "        x=pd.read_excel('data/'+a+b+'.xlsx',sheet_name=sheet_name)\n",
    "        x['year']=b\n",
    "        temp.append(x)\n",
    "    x=pd.concat(temp)\n",
    "    x['state']=a\n",
    "    personal_info.append(x)\n",
    "personal_info=pd.concat(personal_info)"
   ]
  },
  {
   "cell_type": "code",
   "execution_count": 20,
   "id": "55ad7c05-e031-45b1-8ad9-fc52c57003ce",
   "metadata": {},
   "outputs": [
    {
     "data": {
      "text/html": [
       "<div>\n",
       "<style scoped>\n",
       "    .dataframe tbody tr th:only-of-type {\n",
       "        vertical-align: middle;\n",
       "    }\n",
       "\n",
       "    .dataframe tbody tr th {\n",
       "        vertical-align: top;\n",
       "    }\n",
       "\n",
       "    .dataframe thead th {\n",
       "        text-align: right;\n",
       "    }\n",
       "</style>\n",
       "<table border=\"1\" class=\"dataframe\">\n",
       "  <thead>\n",
       "    <tr style=\"text-align: right;\">\n",
       "      <th></th>\n",
       "      <th>Address</th>\n",
       "      <th>member</th>\n",
       "      <th>relation</th>\n",
       "      <th>gender</th>\n",
       "      <th>age</th>\n",
       "      <th>literacy</th>\n",
       "      <th>studying</th>\n",
       "      <th>degree</th>\n",
       "      <th>occupationalst</th>\n",
       "      <th>maritalst</th>\n",
       "      <th>year</th>\n",
       "      <th>state</th>\n",
       "    </tr>\n",
       "  </thead>\n",
       "  <tbody>\n",
       "    <tr>\n",
       "      <th>0</th>\n",
       "      <td>20010394208</td>\n",
       "      <td>1</td>\n",
       "      <td>Head</td>\n",
       "      <td>Male</td>\n",
       "      <td>50</td>\n",
       "      <td>literate</td>\n",
       "      <td>No</td>\n",
       "      <td>Elemantry</td>\n",
       "      <td>employed</td>\n",
       "      <td>Married</td>\n",
       "      <td>98</td>\n",
       "      <td>R</td>\n",
       "    </tr>\n",
       "    <tr>\n",
       "      <th>1</th>\n",
       "      <td>20010394208</td>\n",
       "      <td>2</td>\n",
       "      <td>Spouse</td>\n",
       "      <td>Female</td>\n",
       "      <td>45</td>\n",
       "      <td>illiterate</td>\n",
       "      <td>NaN</td>\n",
       "      <td>NaN</td>\n",
       "      <td>Housewife</td>\n",
       "      <td>Married</td>\n",
       "      <td>98</td>\n",
       "      <td>R</td>\n",
       "    </tr>\n",
       "    <tr>\n",
       "      <th>2</th>\n",
       "      <td>20010394208</td>\n",
       "      <td>3</td>\n",
       "      <td>Child</td>\n",
       "      <td>Female</td>\n",
       "      <td>26</td>\n",
       "      <td>literate</td>\n",
       "      <td>No</td>\n",
       "      <td>Elemantry</td>\n",
       "      <td>Housewife</td>\n",
       "      <td>Married</td>\n",
       "      <td>98</td>\n",
       "      <td>R</td>\n",
       "    </tr>\n",
       "    <tr>\n",
       "      <th>3</th>\n",
       "      <td>20010394208</td>\n",
       "      <td>4</td>\n",
       "      <td>Child</td>\n",
       "      <td>Male</td>\n",
       "      <td>25</td>\n",
       "      <td>literate</td>\n",
       "      <td>No</td>\n",
       "      <td>Bachelor</td>\n",
       "      <td>employed</td>\n",
       "      <td>Single</td>\n",
       "      <td>98</td>\n",
       "      <td>R</td>\n",
       "    </tr>\n",
       "    <tr>\n",
       "      <th>4</th>\n",
       "      <td>20010394208</td>\n",
       "      <td>5</td>\n",
       "      <td>Child</td>\n",
       "      <td>Male</td>\n",
       "      <td>14</td>\n",
       "      <td>literate</td>\n",
       "      <td>Yes</td>\n",
       "      <td>Secondary</td>\n",
       "      <td>Student</td>\n",
       "      <td>Single</td>\n",
       "      <td>98</td>\n",
       "      <td>R</td>\n",
       "    </tr>\n",
       "    <tr>\n",
       "      <th>...</th>\n",
       "      <td>...</td>\n",
       "      <td>...</td>\n",
       "      <td>...</td>\n",
       "      <td>...</td>\n",
       "      <td>...</td>\n",
       "      <td>...</td>\n",
       "      <td>...</td>\n",
       "      <td>...</td>\n",
       "      <td>...</td>\n",
       "      <td>...</td>\n",
       "      <td>...</td>\n",
       "      <td>...</td>\n",
       "    </tr>\n",
       "    <tr>\n",
       "      <th>64730</th>\n",
       "      <td>12603320429</td>\n",
       "      <td>3</td>\n",
       "      <td>Child</td>\n",
       "      <td>Male</td>\n",
       "      <td>43</td>\n",
       "      <td>literate</td>\n",
       "      <td>No</td>\n",
       "      <td>Diploma</td>\n",
       "      <td>employed</td>\n",
       "      <td>Single</td>\n",
       "      <td>1401</td>\n",
       "      <td>U</td>\n",
       "    </tr>\n",
       "    <tr>\n",
       "      <th>64731</th>\n",
       "      <td>12603320429</td>\n",
       "      <td>4</td>\n",
       "      <td>Child</td>\n",
       "      <td>Male</td>\n",
       "      <td>27</td>\n",
       "      <td>literate</td>\n",
       "      <td>No</td>\n",
       "      <td>Secondary</td>\n",
       "      <td>unemployed</td>\n",
       "      <td>Single</td>\n",
       "      <td>1401</td>\n",
       "      <td>U</td>\n",
       "    </tr>\n",
       "    <tr>\n",
       "      <th>64732</th>\n",
       "      <td>12603320429</td>\n",
       "      <td>5</td>\n",
       "      <td>Child</td>\n",
       "      <td>Female</td>\n",
       "      <td>40</td>\n",
       "      <td>literate</td>\n",
       "      <td>No</td>\n",
       "      <td>Diploma</td>\n",
       "      <td>employed</td>\n",
       "      <td>Divorced</td>\n",
       "      <td>1401</td>\n",
       "      <td>U</td>\n",
       "    </tr>\n",
       "    <tr>\n",
       "      <th>64733</th>\n",
       "      <td>12603320429</td>\n",
       "      <td>6</td>\n",
       "      <td>Child</td>\n",
       "      <td>Male</td>\n",
       "      <td>37</td>\n",
       "      <td>literate</td>\n",
       "      <td>No</td>\n",
       "      <td>Diploma</td>\n",
       "      <td>employed</td>\n",
       "      <td>Single</td>\n",
       "      <td>1401</td>\n",
       "      <td>U</td>\n",
       "    </tr>\n",
       "    <tr>\n",
       "      <th>64734</th>\n",
       "      <td>12603320432</td>\n",
       "      <td>1</td>\n",
       "      <td>Head</td>\n",
       "      <td>Female</td>\n",
       "      <td>48</td>\n",
       "      <td>literate</td>\n",
       "      <td>No</td>\n",
       "      <td>Secondary</td>\n",
       "      <td>IncomeWOJob</td>\n",
       "      <td>Divorced</td>\n",
       "      <td>1401</td>\n",
       "      <td>U</td>\n",
       "    </tr>\n",
       "  </tbody>\n",
       "</table>\n",
       "<p>516888 rows × 12 columns</p>\n",
       "</div>"
      ],
      "text/plain": [
       "           Address  member relation  gender  age    literacy studying  \\\n",
       "0      20010394208       1     Head    Male   50    literate       No   \n",
       "1      20010394208       2   Spouse  Female   45  illiterate      NaN   \n",
       "2      20010394208       3    Child  Female   26    literate       No   \n",
       "3      20010394208       4    Child    Male   25    literate       No   \n",
       "4      20010394208       5    Child    Male   14    literate      Yes   \n",
       "...            ...     ...      ...     ...  ...         ...      ...   \n",
       "64730  12603320429       3    Child    Male   43    literate       No   \n",
       "64731  12603320429       4    Child    Male   27    literate       No   \n",
       "64732  12603320429       5    Child  Female   40    literate       No   \n",
       "64733  12603320429       6    Child    Male   37    literate       No   \n",
       "64734  12603320432       1     Head  Female   48    literate       No   \n",
       "\n",
       "          degree occupationalst maritalst  year state  \n",
       "0      Elemantry       employed   Married    98     R  \n",
       "1            NaN      Housewife   Married    98     R  \n",
       "2      Elemantry      Housewife   Married    98     R  \n",
       "3       Bachelor       employed    Single    98     R  \n",
       "4      Secondary        Student    Single    98     R  \n",
       "...          ...            ...       ...   ...   ...  \n",
       "64730    Diploma       employed    Single  1401     U  \n",
       "64731  Secondary     unemployed    Single  1401     U  \n",
       "64732    Diploma       employed  Divorced  1401     U  \n",
       "64733    Diploma       employed    Single  1401     U  \n",
       "64734  Secondary    IncomeWOJob  Divorced  1401     U  \n",
       "\n",
       "[516888 rows x 12 columns]"
      ]
     },
     "execution_count": 20,
     "metadata": {},
     "output_type": "execute_result"
    }
   ],
   "source": [
    "personal_info"
   ]
  },
  {
   "cell_type": "code",
   "execution_count": 3,
   "id": "fbd25f65-99d4-4da3-b748-5e2cdefc76f0",
   "metadata": {},
   "outputs": [
    {
     "name": "stdout",
     "output_type": "stream",
     "text": [
      "<class 'pandas.core.frame.DataFrame'>\n",
      "Index: 516888 entries, 0 to 64734\n",
      "Data columns (total 12 columns):\n",
      " #   Column          Non-Null Count   Dtype \n",
      "---  ------          --------------   ----- \n",
      " 0   Address         516888 non-null  int64 \n",
      " 1   member          516888 non-null  int64 \n",
      " 2   relation        516888 non-null  object\n",
      " 3   gender          516886 non-null  object\n",
      " 4   age             516888 non-null  int64 \n",
      " 5   literacy        474192 non-null  object\n",
      " 6   studying        400044 non-null  object\n",
      " 7   degree          400042 non-null  object\n",
      " 8   occupationalst  438828 non-null  object\n",
      " 9   maritalst       438835 non-null  object\n",
      " 10  year            516888 non-null  object\n",
      " 11  state           516888 non-null  object\n",
      "dtypes: int64(3), object(9)\n",
      "memory usage: 51.3+ MB\n"
     ]
    }
   ],
   "source": [
    "personal_info.info()"
   ]
  },
  {
   "cell_type": "markdown",
   "id": "1dda1504-122c-4b23-a4a9-c3d6c49abf3c",
   "metadata": {},
   "source": [
    "### fill gender null values with mode ( we have only 2 null values in gender column)"
   ]
  },
  {
   "cell_type": "code",
   "execution_count": 11,
   "id": "98dcb6bb-bc5c-4b16-953f-590a902d49b1",
   "metadata": {},
   "outputs": [],
   "source": [
    "personal_info['gender'].fillna(personal_info['gender'].mode()[0],inplace=True)"
   ]
  },
  {
   "cell_type": "code",
   "execution_count": 13,
   "id": "552c1590-2db2-435b-ab08-33e91bbb8ba2",
   "metadata": {},
   "outputs": [
    {
     "name": "stdout",
     "output_type": "stream",
     "text": [
      "<class 'pandas.core.frame.DataFrame'>\n",
      "Index: 516888 entries, 0 to 64734\n",
      "Data columns (total 12 columns):\n",
      " #   Column          Non-Null Count   Dtype \n",
      "---  ------          --------------   ----- \n",
      " 0   Address         516888 non-null  int64 \n",
      " 1   member          516888 non-null  int64 \n",
      " 2   relation        516888 non-null  object\n",
      " 3   gender          516888 non-null  object\n",
      " 4   age             516888 non-null  int64 \n",
      " 5   literacy        474192 non-null  object\n",
      " 6   studying        400044 non-null  object\n",
      " 7   degree          400042 non-null  object\n",
      " 8   occupationalst  438828 non-null  object\n",
      " 9   maritalst       438835 non-null  object\n",
      " 10  year            516888 non-null  object\n",
      " 11  state           516888 non-null  object\n",
      "dtypes: int64(3), object(9)\n",
      "memory usage: 51.3+ MB\n"
     ]
    }
   ],
   "source": [
    "personal_info.info()"
   ]
  },
  {
   "cell_type": "markdown",
   "id": "cbc9341c-57b0-4570-9688-9faa2f197285",
   "metadata": {},
   "source": [
    "### checking literacy column"
   ]
  },
  {
   "cell_type": "code",
   "execution_count": 19,
   "id": "fb6a6f15-1568-4ca9-8fdb-b25a024ff5dd",
   "metadata": {},
   "outputs": [
    {
     "data": {
      "text/plain": [
       "<Axes: xlabel='age', ylabel='Count'>"
      ]
     },
     "execution_count": 19,
     "metadata": {},
     "output_type": "execute_result"
    },
    {
     "data": {
      "image/png": "[encoded data removed]",
      "text/plain": [
       "<Figure size 640x480 with 1 Axes>"
      ]
     },
     "metadata": {},
     "output_type": "display_data"
    }
   ],
   "source": [
    "sns.histplot(personal_info[personal_info.literacy.isna()]['age'])"
   ]
  },
  {
   "cell_type": "markdown",
   "id": "3750f39c-84d2-46ff-9b92-8d28d768901a",
   "metadata": {},
   "source": [
    "### All Null values at literacy column are under 6 years old kids"
   ]
  },
  {
   "cell_type": "markdown",
   "id": "9a7cf73e-ea47-46f0-a7fd-5882e3da8777",
   "metadata": {},
   "source": [
    "### So they are illiterate"
   ]
  },
  {
   "cell_type": "code",
   "execution_count": 21,
   "id": "ea8dac15-3237-4b99-811f-98168d102bf4",
   "metadata": {},
   "outputs": [],
   "source": [
    "personal_info.literacy.fillna('illiterate',inplace=True)"
   ]
  },
  {
   "cell_type": "code",
   "execution_count": 23,
   "id": "f2359df8-da56-41ae-bfe1-95ea6a0f4bd4",
   "metadata": {},
   "outputs": [
    {
     "name": "stdout",
     "output_type": "stream",
     "text": [
      "<class 'pandas.core.frame.DataFrame'>\n",
      "Index: 516888 entries, 0 to 64734\n",
      "Data columns (total 12 columns):\n",
      " #   Column          Non-Null Count   Dtype \n",
      "---  ------          --------------   ----- \n",
      " 0   Address         516888 non-null  int64 \n",
      " 1   member          516888 non-null  int64 \n",
      " 2   relation        516888 non-null  object\n",
      " 3   gender          516888 non-null  object\n",
      " 4   age             516888 non-null  int64 \n",
      " 5   literacy        516888 non-null  object\n",
      " 6   studying        400044 non-null  object\n",
      " 7   degree          400042 non-null  object\n",
      " 8   occupationalst  438828 non-null  object\n",
      " 9   maritalst       438835 non-null  object\n",
      " 10  year            516888 non-null  object\n",
      " 11  state           516888 non-null  object\n",
      "dtypes: int64(3), object(9)\n",
      "memory usage: 51.3+ MB\n"
     ]
    }
   ],
   "source": [
    "personal_info.info()"
   ]
  },
  {
   "cell_type": "markdown",
   "id": "02ae714c-1b6d-4362-97b7-164cc3eba242",
   "metadata": {},
   "source": [
    "### checking studying"
   ]
  },
  {
   "cell_type": "code",
   "execution_count": 24,
   "id": "3a80e4f6-ecaa-42f6-822b-ede9b9fd500f",
   "metadata": {},
   "outputs": [
    {
     "data": {
      "text/plain": [
       "<Axes: xlabel='age', ylabel='Count'>"
      ]
     },
     "execution_count": 24,
     "metadata": {},
     "output_type": "execute_result"
    },
    {
     "data": {
      "image/png": "[encoded data removed]",
      "text/plain": [
       "<Figure size 640x480 with 1 Axes>"
      ]
     },
     "metadata": {},
     "output_type": "display_data"
    }
   ],
   "source": [
    "sns.histplot(personal_info[personal_info.studying.isna()]['age'])"
   ]
  },
  {
   "cell_type": "code",
   "execution_count": 35,
   "id": "cfa3c919-91a2-491e-aba7-86a9be967f1f",
   "metadata": {},
   "outputs": [
    {
     "data": {
      "text/plain": [
       "literacy  \n",
       "illiterate    116844\n",
       "Name: count, dtype: int64"
      ]
     },
     "execution_count": 35,
     "metadata": {},
     "output_type": "execute_result"
    }
   ],
   "source": [
    "personal_info[personal_info.studying.isna()][['literacy']].value_counts()"
   ]
  },
  {
   "cell_type": "markdown",
   "id": "5a685c72-aada-410e-a4dc-db8b07de22a3",
   "metadata": {},
   "source": [
    "### All Studying null Values are illiterated so we are sure they are not studying"
   ]
  },
  {
   "cell_type": "code",
   "execution_count": 36,
   "id": "1effab72-37ad-43ef-a63c-77ca6117ad37",
   "metadata": {},
   "outputs": [],
   "source": [
    "personal_info.studying.fillna('No',inplace=True)"
   ]
  },
  {
   "cell_type": "code",
   "execution_count": 37,
   "id": "79cb2e6a-ca2a-4b73-91f4-a7e486fa8a43",
   "metadata": {},
   "outputs": [
    {
     "name": "stdout",
     "output_type": "stream",
     "text": [
      "<class 'pandas.core.frame.DataFrame'>\n",
      "Index: 516888 entries, 0 to 64734\n",
      "Data columns (total 12 columns):\n",
      " #   Column          Non-Null Count   Dtype \n",
      "---  ------          --------------   ----- \n",
      " 0   Address         516888 non-null  int64 \n",
      " 1   member          516888 non-null  int64 \n",
      " 2   relation        516888 non-null  object\n",
      " 3   gender          516888 non-null  object\n",
      " 4   age             516888 non-null  int64 \n",
      " 5   literacy        516888 non-null  object\n",
      " 6   studying        516888 non-null  object\n",
      " 7   degree          400042 non-null  object\n",
      " 8   occupationalst  438828 non-null  object\n",
      " 9   maritalst       438835 non-null  object\n",
      " 10  year            516888 non-null  object\n",
      " 11  state           516888 non-null  object\n",
      "dtypes: int64(3), object(9)\n",
      "memory usage: 51.3+ MB\n"
     ]
    }
   ],
   "source": [
    "personal_info.info()"
   ]
  },
  {
   "cell_type": "code",
   "execution_count": 50,
   "id": "18db4a80-42b4-4f56-91ef-bc0955d13255",
   "metadata": {},
   "outputs": [
    {
     "data": {
      "text/plain": [
       "<Axes: xlabel='degree', ylabel='Count'>"
      ]
     },
     "execution_count": 50,
     "metadata": {},
     "output_type": "execute_result"
    },
    {
     "data": {
      "image/png": "[encoded data removed]",
      "text/plain": [
       "<Figure size 640x480 with 1 Axes>"
      ]
     },
     "metadata": {},
     "output_type": "display_data"
    }
   ],
   "source": [
    "sns.histplot(personal_info['degree'])"
   ]
  },
  {
   "cell_type": "markdown",
   "id": "5e782ef7-5a1b-4cd2-898d-2ad5dd61852d",
   "metadata": {},
   "source": [
    "### Degree is an ordinal column"
   ]
  },
  {
   "cell_type": "code",
   "execution_count": 51,
   "id": "babb5765-9203-42cf-b6e2-514ba5a183b6",
   "metadata": {},
   "outputs": [
    {
     "data": {
      "text/plain": [
       "array(['Elemantry', nan, 'Bachelor', 'Secondary', 'Diploma', 'Master',\n",
       "       'HighSchool', 'College', 'Other', 'PhD'], dtype=object)"
      ]
     },
     "execution_count": 51,
     "metadata": {},
     "output_type": "execute_result"
    }
   ],
   "source": [
    "personal_info['degree'].unique()"
   ]
  },
  {
   "cell_type": "code",
   "execution_count": 40,
   "id": "e3a1fcaf-73f8-4f31-974c-8d5ccd7bc9df",
   "metadata": {},
   "outputs": [
    {
     "data": {
      "text/plain": [
       "<Axes: xlabel='age', ylabel='Count'>"
      ]
     },
     "execution_count": 40,
     "metadata": {},
     "output_type": "execute_result"
    },
    {
     "data": {
      "image/png": "[encoded data removed]",
      "text/plain": [
       "<Figure size 640x480 with 1 Axes>"
      ]
     },
     "metadata": {},
     "output_type": "display_data"
    }
   ],
   "source": [
    "sns.histplot(personal_info[personal_info['degree'].isna()]['age'])"
   ]
  },
  {
   "cell_type": "code",
   "execution_count": 43,
   "id": "8940b326-bf89-48cc-b71d-813ce3711259",
   "metadata": {},
   "outputs": [
    {
     "data": {
      "text/plain": [
       "0"
      ]
     },
     "execution_count": 43,
     "metadata": {},
     "output_type": "execute_result"
    }
   ],
   "source": [
    "(personal_info[personal_info['degree'].isna()]['literacy']=='literate').sum()"
   ]
  },
  {
   "cell_type": "markdown",
   "id": "a7f31ca7-ae78-4c52-8b39-1d83557cd5b9",
   "metadata": {},
   "source": [
    "### All null values at degree column are illiterated"
   ]
  },
  {
   "cell_type": "code",
   "execution_count": 54,
   "id": "7222a444-2f64-4424-8d68-e69568e275e2",
   "metadata": {},
   "outputs": [],
   "source": [
    "degree_map={\n",
    "    np.nan:0,\n",
    "    'Elemantry':1,\n",
    "    'Secondary':2,\n",
    "    'HighSchool':3,\n",
    "    'Diploma':4,\n",
    "    'College':5,\n",
    "    'Bachelor':6,\n",
    "    'Master':7,\n",
    "    'PhD':8,\n",
    "    'Other':9\n",
    "}\n",
    "personal_info['degree']=personal_info['degree'].map(degree_map)"
   ]
  },
  {
   "cell_type": "code",
   "execution_count": 55,
   "id": "f011680b-bc5d-475e-a8fc-da2b1bfa2083",
   "metadata": {},
   "outputs": [
    {
     "name": "stdout",
     "output_type": "stream",
     "text": [
      "<class 'pandas.core.frame.DataFrame'>\n",
      "Index: 516888 entries, 0 to 64734\n",
      "Data columns (total 12 columns):\n",
      " #   Column          Non-Null Count   Dtype \n",
      "---  ------          --------------   ----- \n",
      " 0   Address         516888 non-null  int64 \n",
      " 1   member          516888 non-null  int64 \n",
      " 2   relation        516888 non-null  object\n",
      " 3   gender          516888 non-null  object\n",
      " 4   age             516888 non-null  int64 \n",
      " 5   literacy        516888 non-null  object\n",
      " 6   studying        516888 non-null  object\n",
      " 7   degree          516888 non-null  int64 \n",
      " 8   occupationalst  438828 non-null  object\n",
      " 9   maritalst       438835 non-null  object\n",
      " 10  year            516888 non-null  object\n",
      " 11  state           516888 non-null  object\n",
      "dtypes: int64(4), object(8)\n",
      "memory usage: 51.3+ MB\n"
     ]
    }
   ],
   "source": [
    "personal_info.info()"
   ]
  },
  {
   "cell_type": "code",
   "execution_count": 59,
   "id": "0ce9ed06-c418-4db6-ac24-a069fbda63ca",
   "metadata": {},
   "outputs": [
    {
     "data": {
      "text/plain": [
       "occupationalst\n",
       "employed       141886\n",
       "Housewife      131766\n",
       "Student         77924\n",
       "IncomeWOJob     53262\n",
       "unemployed      24417\n",
       "Other            9573\n",
       "Name: count, dtype: int64"
      ]
     },
     "execution_count": 59,
     "metadata": {},
     "output_type": "execute_result"
    }
   ],
   "source": [
    "personal_info.occupationalst.value_counts()"
   ]
  },
  {
   "cell_type": "code",
   "execution_count": 58,
   "id": "e79a8586-0e1f-4e29-b92f-3e7e46d3fb47",
   "metadata": {},
   "outputs": [
    {
     "data": {
      "text/plain": [
       "<Axes: xlabel='age', ylabel='Count'>"
      ]
     },
     "execution_count": 58,
     "metadata": {},
     "output_type": "execute_result"
    },
    {
     "data": {
      "image/png": "[encoded data removed]",
      "text/plain": [
       "<Figure size 640x480 with 1 Axes>"
      ]
     },
     "metadata": {},
     "output_type": "display_data"
    }
   ],
   "source": [
    "sns.histplot(personal_info[personal_info.occupationalst.isna()].age)"
   ]
  },
  {
   "cell_type": "markdown",
   "id": "305933ea-774b-4acf-b89c-09eb1db72580",
   "metadata": {},
   "source": [
    "### All null values at occupationalst are kids"
   ]
  },
  {
   "cell_type": "markdown",
   "id": "05ee6a57-afe1-4a81-a636-736a6390be6b",
   "metadata": {},
   "source": [
    "### They should be student so we fill it as Student"
   ]
  },
  {
   "cell_type": "code",
   "execution_count": 60,
   "id": "65242303-3284-49f6-88f1-df004d28efe1",
   "metadata": {},
   "outputs": [],
   "source": [
    "personal_info.occupationalst.fillna('Student',inplace=True)"
   ]
  },
  {
   "cell_type": "code",
   "execution_count": 61,
   "id": "969100dd-7b09-42f2-8bd4-93fc66ccf493",
   "metadata": {},
   "outputs": [
    {
     "name": "stdout",
     "output_type": "stream",
     "text": [
      "<class 'pandas.core.frame.DataFrame'>\n",
      "Index: 516888 entries, 0 to 64734\n",
      "Data columns (total 12 columns):\n",
      " #   Column          Non-Null Count   Dtype \n",
      "---  ------          --------------   ----- \n",
      " 0   Address         516888 non-null  int64 \n",
      " 1   member          516888 non-null  int64 \n",
      " 2   relation        516888 non-null  object\n",
      " 3   gender          516888 non-null  object\n",
      " 4   age             516888 non-null  int64 \n",
      " 5   literacy        516888 non-null  object\n",
      " 6   studying        516888 non-null  object\n",
      " 7   degree          516888 non-null  int64 \n",
      " 8   occupationalst  516888 non-null  object\n",
      " 9   maritalst       438835 non-null  object\n",
      " 10  year            516888 non-null  object\n",
      " 11  state           516888 non-null  object\n",
      "dtypes: int64(4), object(8)\n",
      "memory usage: 51.3+ MB\n"
     ]
    }
   ],
   "source": [
    "personal_info.info()"
   ]
  },
  {
   "cell_type": "code",
   "execution_count": 64,
   "id": "70ed92fc-478b-4c53-995c-d52dfebbd95b",
   "metadata": {},
   "outputs": [
    {
     "data": {
      "text/plain": [
       "<Axes: xlabel='age', ylabel='Count'>"
      ]
     },
     "execution_count": 64,
     "metadata": {},
     "output_type": "execute_result"
    },
    {
     "data": {
      "image/png": "[encoded data removed]",
      "text/plain": [
       "<Figure size 640x480 with 1 Axes>"
      ]
     },
     "metadata": {},
     "output_type": "display_data"
    }
   ],
   "source": [
    "sns.histplot(personal_info[personal_info.maritalst.isna()].age)"
   ]
  },
  {
   "cell_type": "code",
   "execution_count": 65,
   "id": "4bcc6d39-7433-462b-aeca-4053cfaef0de",
   "metadata": {},
   "outputs": [
    {
     "data": {
      "text/plain": [
       "70"
      ]
     },
     "execution_count": 65,
     "metadata": {},
     "output_type": "execute_result"
    }
   ],
   "source": [
    "personal_info[personal_info.maritalst.isna()].age.max()"
   ]
  },
  {
   "cell_type": "markdown",
   "id": "4d68a510-5e01-47b9-bb3b-0cf3bde0ee1a",
   "metadata": {},
   "source": [
    "### They are kids or too old, so they are Single"
   ]
  },
  {
   "cell_type": "code",
   "execution_count": 66,
   "id": "589d78af-5a72-4e18-811e-3f2e53b6c1d4",
   "metadata": {},
   "outputs": [],
   "source": [
    "personal_info.maritalst.fillna('Single',inplace=True)"
   ]
  },
  {
   "cell_type": "code",
   "execution_count": 67,
   "id": "75c6e0be-88a7-41a3-8946-96a0327a8bfa",
   "metadata": {},
   "outputs": [
    {
     "name": "stdout",
     "output_type": "stream",
     "text": [
      "<class 'pandas.core.frame.DataFrame'>\n",
      "Index: 516888 entries, 0 to 64734\n",
      "Data columns (total 12 columns):\n",
      " #   Column          Non-Null Count   Dtype \n",
      "---  ------          --------------   ----- \n",
      " 0   Address         516888 non-null  int64 \n",
      " 1   member          516888 non-null  int64 \n",
      " 2   relation        516888 non-null  object\n",
      " 3   gender          516888 non-null  object\n",
      " 4   age             516888 non-null  int64 \n",
      " 5   literacy        516888 non-null  object\n",
      " 6   studying        516888 non-null  object\n",
      " 7   degree          516888 non-null  int64 \n",
      " 8   occupationalst  516888 non-null  object\n",
      " 9   maritalst       516888 non-null  object\n",
      " 10  year            516888 non-null  object\n",
      " 11  state           516888 non-null  object\n",
      "dtypes: int64(4), object(8)\n",
      "memory usage: 51.3+ MB\n"
     ]
    }
   ],
   "source": [
    "personal_info.info()"
   ]
  },
  {
   "cell_type": "code",
   "execution_count": 68,
   "id": "4f964847-7dcf-4e00-9f34-3542ff35d750",
   "metadata": {},
   "outputs": [
    {
     "data": {
      "text/html": [
       "<div>\n",
       "<style scoped>\n",
       "    .dataframe tbody tr th:only-of-type {\n",
       "        vertical-align: middle;\n",
       "    }\n",
       "\n",
       "    .dataframe tbody tr th {\n",
       "        vertical-align: top;\n",
       "    }\n",
       "\n",
       "    .dataframe thead th {\n",
       "        text-align: right;\n",
       "    }\n",
       "</style>\n",
       "<table border=\"1\" class=\"dataframe\">\n",
       "  <thead>\n",
       "    <tr style=\"text-align: right;\">\n",
       "      <th></th>\n",
       "      <th>Address</th>\n",
       "      <th>member</th>\n",
       "      <th>relation</th>\n",
       "      <th>gender</th>\n",
       "      <th>age</th>\n",
       "      <th>literacy</th>\n",
       "      <th>studying</th>\n",
       "      <th>degree</th>\n",
       "      <th>occupationalst</th>\n",
       "      <th>maritalst</th>\n",
       "      <th>year</th>\n",
       "      <th>state</th>\n",
       "    </tr>\n",
       "  </thead>\n",
       "  <tbody>\n",
       "    <tr>\n",
       "      <th>0</th>\n",
       "      <td>20010394208</td>\n",
       "      <td>1</td>\n",
       "      <td>Head</td>\n",
       "      <td>Male</td>\n",
       "      <td>50</td>\n",
       "      <td>literate</td>\n",
       "      <td>No</td>\n",
       "      <td>1</td>\n",
       "      <td>employed</td>\n",
       "      <td>Married</td>\n",
       "      <td>98</td>\n",
       "      <td>R</td>\n",
       "    </tr>\n",
       "    <tr>\n",
       "      <th>1</th>\n",
       "      <td>20010394208</td>\n",
       "      <td>2</td>\n",
       "      <td>Spouse</td>\n",
       "      <td>Female</td>\n",
       "      <td>45</td>\n",
       "      <td>illiterate</td>\n",
       "      <td>No</td>\n",
       "      <td>0</td>\n",
       "      <td>Housewife</td>\n",
       "      <td>Married</td>\n",
       "      <td>98</td>\n",
       "      <td>R</td>\n",
       "    </tr>\n",
       "    <tr>\n",
       "      <th>2</th>\n",
       "      <td>20010394208</td>\n",
       "      <td>3</td>\n",
       "      <td>Child</td>\n",
       "      <td>Female</td>\n",
       "      <td>26</td>\n",
       "      <td>literate</td>\n",
       "      <td>No</td>\n",
       "      <td>1</td>\n",
       "      <td>Housewife</td>\n",
       "      <td>Married</td>\n",
       "      <td>98</td>\n",
       "      <td>R</td>\n",
       "    </tr>\n",
       "    <tr>\n",
       "      <th>3</th>\n",
       "      <td>20010394208</td>\n",
       "      <td>4</td>\n",
       "      <td>Child</td>\n",
       "      <td>Male</td>\n",
       "      <td>25</td>\n",
       "      <td>literate</td>\n",
       "      <td>No</td>\n",
       "      <td>6</td>\n",
       "      <td>employed</td>\n",
       "      <td>Single</td>\n",
       "      <td>98</td>\n",
       "      <td>R</td>\n",
       "    </tr>\n",
       "    <tr>\n",
       "      <th>4</th>\n",
       "      <td>20010394208</td>\n",
       "      <td>5</td>\n",
       "      <td>Child</td>\n",
       "      <td>Male</td>\n",
       "      <td>14</td>\n",
       "      <td>literate</td>\n",
       "      <td>Yes</td>\n",
       "      <td>2</td>\n",
       "      <td>Student</td>\n",
       "      <td>Single</td>\n",
       "      <td>98</td>\n",
       "      <td>R</td>\n",
       "    </tr>\n",
       "    <tr>\n",
       "      <th>...</th>\n",
       "      <td>...</td>\n",
       "      <td>...</td>\n",
       "      <td>...</td>\n",
       "      <td>...</td>\n",
       "      <td>...</td>\n",
       "      <td>...</td>\n",
       "      <td>...</td>\n",
       "      <td>...</td>\n",
       "      <td>...</td>\n",
       "      <td>...</td>\n",
       "      <td>...</td>\n",
       "      <td>...</td>\n",
       "    </tr>\n",
       "    <tr>\n",
       "      <th>64730</th>\n",
       "      <td>12603320429</td>\n",
       "      <td>3</td>\n",
       "      <td>Child</td>\n",
       "      <td>Male</td>\n",
       "      <td>43</td>\n",
       "      <td>literate</td>\n",
       "      <td>No</td>\n",
       "      <td>4</td>\n",
       "      <td>employed</td>\n",
       "      <td>Single</td>\n",
       "      <td>1401</td>\n",
       "      <td>U</td>\n",
       "    </tr>\n",
       "    <tr>\n",
       "      <th>64731</th>\n",
       "      <td>12603320429</td>\n",
       "      <td>4</td>\n",
       "      <td>Child</td>\n",
       "      <td>Male</td>\n",
       "      <td>27</td>\n",
       "      <td>literate</td>\n",
       "      <td>No</td>\n",
       "      <td>2</td>\n",
       "      <td>unemployed</td>\n",
       "      <td>Single</td>\n",
       "      <td>1401</td>\n",
       "      <td>U</td>\n",
       "    </tr>\n",
       "    <tr>\n",
       "      <th>64732</th>\n",
       "      <td>12603320429</td>\n",
       "      <td>5</td>\n",
       "      <td>Child</td>\n",
       "      <td>Female</td>\n",
       "      <td>40</td>\n",
       "      <td>literate</td>\n",
       "      <td>No</td>\n",
       "      <td>4</td>\n",
       "      <td>employed</td>\n",
       "      <td>Divorced</td>\n",
       "      <td>1401</td>\n",
       "      <td>U</td>\n",
       "    </tr>\n",
       "    <tr>\n",
       "      <th>64733</th>\n",
       "      <td>12603320429</td>\n",
       "      <td>6</td>\n",
       "      <td>Child</td>\n",
       "      <td>Male</td>\n",
       "      <td>37</td>\n",
       "      <td>literate</td>\n",
       "      <td>No</td>\n",
       "      <td>4</td>\n",
       "      <td>employed</td>\n",
       "      <td>Single</td>\n",
       "      <td>1401</td>\n",
       "      <td>U</td>\n",
       "    </tr>\n",
       "    <tr>\n",
       "      <th>64734</th>\n",
       "      <td>12603320432</td>\n",
       "      <td>1</td>\n",
       "      <td>Head</td>\n",
       "      <td>Female</td>\n",
       "      <td>48</td>\n",
       "      <td>literate</td>\n",
       "      <td>No</td>\n",
       "      <td>2</td>\n",
       "      <td>IncomeWOJob</td>\n",
       "      <td>Divorced</td>\n",
       "      <td>1401</td>\n",
       "      <td>U</td>\n",
       "    </tr>\n",
       "  </tbody>\n",
       "</table>\n",
       "<p>516888 rows × 12 columns</p>\n",
       "</div>"
      ],
      "text/plain": [
       "           Address  member relation  gender  age    literacy studying  degree  \\\n",
       "0      20010394208       1     Head    Male   50    literate       No       1   \n",
       "1      20010394208       2   Spouse  Female   45  illiterate       No       0   \n",
       "2      20010394208       3    Child  Female   26    literate       No       1   \n",
       "3      20010394208       4    Child    Male   25    literate       No       6   \n",
       "4      20010394208       5    Child    Male   14    literate      Yes       2   \n",
       "...            ...     ...      ...     ...  ...         ...      ...     ...   \n",
       "64730  12603320429       3    Child    Male   43    literate       No       4   \n",
       "64731  12603320429       4    Child    Male   27    literate       No       2   \n",
       "64732  12603320429       5    Child  Female   40    literate       No       4   \n",
       "64733  12603320429       6    Child    Male   37    literate       No       4   \n",
       "64734  12603320432       1     Head  Female   48    literate       No       2   \n",
       "\n",
       "      occupationalst maritalst  year state  \n",
       "0           employed   Married    98     R  \n",
       "1          Housewife   Married    98     R  \n",
       "2          Housewife   Married    98     R  \n",
       "3           employed    Single    98     R  \n",
       "4            Student    Single    98     R  \n",
       "...              ...       ...   ...   ...  \n",
       "64730       employed    Single  1401     U  \n",
       "64731     unemployed    Single  1401     U  \n",
       "64732       employed  Divorced  1401     U  \n",
       "64733       employed    Single  1401     U  \n",
       "64734    IncomeWOJob  Divorced  1401     U  \n",
       "\n",
       "[516888 rows x 12 columns]"
      ]
     },
     "execution_count": 68,
     "metadata": {},
     "output_type": "execute_result"
    }
   ],
   "source": [
    "personal_info"
   ]
  },
  {
   "cell_type": "markdown",
   "id": "7e20eced-d746-470b-bb62-2b309b17b65f",
   "metadata": {},
   "source": [
    "### i dont use LanelEncoder or OneHotEncoder cause maybe somebody needs the labels"
   ]
  },
  {
   "cell_type": "code",
   "execution_count": 70,
   "id": "8cbefc4d-c3c2-4b0d-8d66-c279468492eb",
   "metadata": {},
   "outputs": [],
   "source": [
    "personal_info.to_csv('personal_informations.csv')"
   ]
  },
  {
   "cell_type": "code",
   "execution_count": 71,
   "id": "470359b6-f92c-4139-85ac-c315c7759e18",
   "metadata": {},
   "outputs": [
    {
     "data": {
      "text/html": [
       "<div>\n",
       "<style scoped>\n",
       "    .dataframe tbody tr th:only-of-type {\n",
       "        vertical-align: middle;\n",
       "    }\n",
       "\n",
       "    .dataframe tbody tr th {\n",
       "        vertical-align: top;\n",
       "    }\n",
       "\n",
       "    .dataframe thead th {\n",
       "        text-align: right;\n",
       "    }\n",
       "</style>\n",
       "<table border=\"1\" class=\"dataframe\">\n",
       "  <thead>\n",
       "    <tr style=\"text-align: right;\">\n",
       "      <th></th>\n",
       "      <th>Unnamed: 0</th>\n",
       "      <th>Address</th>\n",
       "      <th>member</th>\n",
       "      <th>relation</th>\n",
       "      <th>gender</th>\n",
       "      <th>age</th>\n",
       "      <th>literacy</th>\n",
       "      <th>studying</th>\n",
       "      <th>degree</th>\n",
       "      <th>occupationalst</th>\n",
       "      <th>maritalst</th>\n",
       "      <th>year</th>\n",
       "      <th>state</th>\n",
       "    </tr>\n",
       "  </thead>\n",
       "  <tbody>\n",
       "    <tr>\n",
       "      <th>0</th>\n",
       "      <td>0</td>\n",
       "      <td>20010394208</td>\n",
       "      <td>1</td>\n",
       "      <td>Head</td>\n",
       "      <td>Male</td>\n",
       "      <td>50</td>\n",
       "      <td>literate</td>\n",
       "      <td>No</td>\n",
       "      <td>1</td>\n",
       "      <td>employed</td>\n",
       "      <td>Married</td>\n",
       "      <td>98</td>\n",
       "      <td>R</td>\n",
       "    </tr>\n",
       "    <tr>\n",
       "      <th>1</th>\n",
       "      <td>1</td>\n",
       "      <td>20010394208</td>\n",
       "      <td>2</td>\n",
       "      <td>Spouse</td>\n",
       "      <td>Female</td>\n",
       "      <td>45</td>\n",
       "      <td>illiterate</td>\n",
       "      <td>No</td>\n",
       "      <td>0</td>\n",
       "      <td>Housewife</td>\n",
       "      <td>Married</td>\n",
       "      <td>98</td>\n",
       "      <td>R</td>\n",
       "    </tr>\n",
       "    <tr>\n",
       "      <th>2</th>\n",
       "      <td>2</td>\n",
       "      <td>20010394208</td>\n",
       "      <td>3</td>\n",
       "      <td>Child</td>\n",
       "      <td>Female</td>\n",
       "      <td>26</td>\n",
       "      <td>literate</td>\n",
       "      <td>No</td>\n",
       "      <td>1</td>\n",
       "      <td>Housewife</td>\n",
       "      <td>Married</td>\n",
       "      <td>98</td>\n",
       "      <td>R</td>\n",
       "    </tr>\n",
       "    <tr>\n",
       "      <th>3</th>\n",
       "      <td>3</td>\n",
       "      <td>20010394208</td>\n",
       "      <td>4</td>\n",
       "      <td>Child</td>\n",
       "      <td>Male</td>\n",
       "      <td>25</td>\n",
       "      <td>literate</td>\n",
       "      <td>No</td>\n",
       "      <td>6</td>\n",
       "      <td>employed</td>\n",
       "      <td>Single</td>\n",
       "      <td>98</td>\n",
       "      <td>R</td>\n",
       "    </tr>\n",
       "    <tr>\n",
       "      <th>4</th>\n",
       "      <td>4</td>\n",
       "      <td>20010394208</td>\n",
       "      <td>5</td>\n",
       "      <td>Child</td>\n",
       "      <td>Male</td>\n",
       "      <td>14</td>\n",
       "      <td>literate</td>\n",
       "      <td>Yes</td>\n",
       "      <td>2</td>\n",
       "      <td>Student</td>\n",
       "      <td>Single</td>\n",
       "      <td>98</td>\n",
       "      <td>R</td>\n",
       "    </tr>\n",
       "    <tr>\n",
       "      <th>...</th>\n",
       "      <td>...</td>\n",
       "      <td>...</td>\n",
       "      <td>...</td>\n",
       "      <td>...</td>\n",
       "      <td>...</td>\n",
       "      <td>...</td>\n",
       "      <td>...</td>\n",
       "      <td>...</td>\n",
       "      <td>...</td>\n",
       "      <td>...</td>\n",
       "      <td>...</td>\n",
       "      <td>...</td>\n",
       "      <td>...</td>\n",
       "    </tr>\n",
       "    <tr>\n",
       "      <th>516883</th>\n",
       "      <td>64730</td>\n",
       "      <td>12603320429</td>\n",
       "      <td>3</td>\n",
       "      <td>Child</td>\n",
       "      <td>Male</td>\n",
       "      <td>43</td>\n",
       "      <td>literate</td>\n",
       "      <td>No</td>\n",
       "      <td>4</td>\n",
       "      <td>employed</td>\n",
       "      <td>Single</td>\n",
       "      <td>1401</td>\n",
       "      <td>U</td>\n",
       "    </tr>\n",
       "    <tr>\n",
       "      <th>516884</th>\n",
       "      <td>64731</td>\n",
       "      <td>12603320429</td>\n",
       "      <td>4</td>\n",
       "      <td>Child</td>\n",
       "      <td>Male</td>\n",
       "      <td>27</td>\n",
       "      <td>literate</td>\n",
       "      <td>No</td>\n",
       "      <td>2</td>\n",
       "      <td>unemployed</td>\n",
       "      <td>Single</td>\n",
       "      <td>1401</td>\n",
       "      <td>U</td>\n",
       "    </tr>\n",
       "    <tr>\n",
       "      <th>516885</th>\n",
       "      <td>64732</td>\n",
       "      <td>12603320429</td>\n",
       "      <td>5</td>\n",
       "      <td>Child</td>\n",
       "      <td>Female</td>\n",
       "      <td>40</td>\n",
       "      <td>literate</td>\n",
       "      <td>No</td>\n",
       "      <td>4</td>\n",
       "      <td>employed</td>\n",
       "      <td>Divorced</td>\n",
       "      <td>1401</td>\n",
       "      <td>U</td>\n",
       "    </tr>\n",
       "    <tr>\n",
       "      <th>516886</th>\n",
       "      <td>64733</td>\n",
       "      <td>12603320429</td>\n",
       "      <td>6</td>\n",
       "      <td>Child</td>\n",
       "      <td>Male</td>\n",
       "      <td>37</td>\n",
       "      <td>literate</td>\n",
       "      <td>No</td>\n",
       "      <td>4</td>\n",
       "      <td>employed</td>\n",
       "      <td>Single</td>\n",
       "      <td>1401</td>\n",
       "      <td>U</td>\n",
       "    </tr>\n",
       "    <tr>\n",
       "      <th>516887</th>\n",
       "      <td>64734</td>\n",
       "      <td>12603320432</td>\n",
       "      <td>1</td>\n",
       "      <td>Head</td>\n",
       "      <td>Female</td>\n",
       "      <td>48</td>\n",
       "      <td>literate</td>\n",
       "      <td>No</td>\n",
       "      <td>2</td>\n",
       "      <td>IncomeWOJob</td>\n",
       "      <td>Divorced</td>\n",
       "      <td>1401</td>\n",
       "      <td>U</td>\n",
       "    </tr>\n",
       "  </tbody>\n",
       "</table>\n",
       "<p>516888 rows × 13 columns</p>\n",
       "</div>"
      ],
      "text/plain": [
       "        Unnamed: 0      Address  member relation  gender  age    literacy  \\\n",
       "0                0  20010394208       1     Head    Male   50    literate   \n",
       "1                1  20010394208       2   Spouse  Female   45  illiterate   \n",
       "2                2  20010394208       3    Child  Female   26    literate   \n",
       "3                3  20010394208       4    Child    Male   25    literate   \n",
       "4                4  20010394208       5    Child    Male   14    literate   \n",
       "...            ...          ...     ...      ...     ...  ...         ...   \n",
       "516883       64730  12603320429       3    Child    Male   43    literate   \n",
       "516884       64731  12603320429       4    Child    Male   27    literate   \n",
       "516885       64732  12603320429       5    Child  Female   40    literate   \n",
       "516886       64733  12603320429       6    Child    Male   37    literate   \n",
       "516887       64734  12603320432       1     Head  Female   48    literate   \n",
       "\n",
       "       studying  degree occupationalst maritalst  year state  \n",
       "0            No       1       employed   Married    98     R  \n",
       "1            No       0      Housewife   Married    98     R  \n",
       "2            No       1      Housewife   Married    98     R  \n",
       "3            No       6       employed    Single    98     R  \n",
       "4           Yes       2        Student    Single    98     R  \n",
       "...         ...     ...            ...       ...   ...   ...  \n",
       "516883       No       4       employed    Single  1401     U  \n",
       "516884       No       2     unemployed    Single  1401     U  \n",
       "516885       No       4       employed  Divorced  1401     U  \n",
       "516886       No       4       employed    Single  1401     U  \n",
       "516887       No       2    IncomeWOJob  Divorced  1401     U  \n",
       "\n",
       "[516888 rows x 13 columns]"
      ]
     },
     "execution_count": 71,
     "metadata": {},
     "output_type": "execute_result"
    }
   ],
   "source": [
    "x=pd.read_csv('personal_informations.csv')\n",
    "x"
   ]
  },
  {
   "cell_type": "code",
   "execution_count": null,
   "id": "2464857f-402d-4d95-bbaf-96405e9b1c4a",
   "metadata": {},
   "outputs": [],
   "source": []
  }
 ],
 "metadata": {
  "kernelspec": {
   "display_name": "Python 3 (ipykernel)",
   "language": "python",
   "name": "python3"
  },
  "language_info": {
   "codemirror_mode": {
    "name": "ipython",
    "version": 3
   },
   "file_extension": ".py",
   "mimetype": "text/x-python",
   "name": "python",
   "nbconvert_exporter": "python",
   "pygments_lexer": "ipython3",
   "version": "3.9.19"
  }
 },
 "nbformat": 4,
 "nbformat_minor": 5
}

{
 "cells": [
  {
   "cell_type": "code",
   "execution_count": 1,
   "id": "6f1e350e-b7ce-492a-9f0f-f29f79d7ae59",
   "metadata": {},
   "outputs": [],
   "source": [
    "import numpy as np\n",
    "import pandas as pd"
   ]
  },
  {
   "cell_type": "markdown",
   "id": "367603f7-dfe1-43ab-8c29-36a9630a71a5",
   "metadata": {},
   "source": [
    "# Preprocessing"
   ]
  },
  {
   "cell_type": "code",
   "execution_count": 2,
   "id": "0084f8be-57e0-4d61-a95e-3909e68ae03b",
   "metadata": {},
   "outputs": [
    {
     "data": {
      "text/html": [
       "<div>\n",
       "<style scoped>\n",
       "    .dataframe tbody tr th:only-of-type {\n",
       "        vertical-align: middle;\n",
       "    }\n",
       "\n",
       "    .dataframe tbody tr th {\n",
       "        vertical-align: top;\n",
       "    }\n",
       "\n",
       "    .dataframe thead th {\n",
       "        text-align: right;\n",
       "    }\n",
       "</style>\n",
       "<table border=\"1\" class=\"dataframe\">\n",
       "  <thead>\n",
       "    <tr style=\"text-align: right;\">\n",
       "      <th></th>\n",
       "      <th>weight</th>\n",
       "      <th>khanevartype</th>\n",
       "      <th>Takmil</th>\n",
       "      <th>province</th>\n",
       "      <th>town</th>\n",
       "      <th>tenure</th>\n",
       "      <th>room</th>\n",
       "      <th>space</th>\n",
       "      <th>construction</th>\n",
       "      <th>material</th>\n",
       "      <th>...</th>\n",
       "      <th>Fasl</th>\n",
       "      <th>Income_s_y</th>\n",
       "      <th>sum03_incomes</th>\n",
       "      <th>Subsidy</th>\n",
       "      <th>total_income</th>\n",
       "      <th>total_income_month</th>\n",
       "      <th>year</th>\n",
       "      <th>state</th>\n",
       "      <th>members</th>\n",
       "      <th>dollar_price</th>\n",
       "    </tr>\n",
       "  </thead>\n",
       "  <tbody>\n",
       "    <tr>\n",
       "      <th>0</th>\n",
       "      <td>171.199524</td>\n",
       "      <td>1</td>\n",
       "      <td>1</td>\n",
       "      <td>Markazi</td>\n",
       "      <td>1</td>\n",
       "      <td>OwnedEstateLand</td>\n",
       "      <td>3</td>\n",
       "      <td>100.0</td>\n",
       "      <td>3.0</td>\n",
       "      <td>MetalBlock</td>\n",
       "      <td>...</td>\n",
       "      <td>2.0</td>\n",
       "      <td>342000000.0</td>\n",
       "      <td>0.0</td>\n",
       "      <td>21840000.0</td>\n",
       "      <td>3.638400e+08</td>\n",
       "      <td>3.032000e+07</td>\n",
       "      <td>98</td>\n",
       "      <td>R</td>\n",
       "      <td>4</td>\n",
       "      <td>120026.344086</td>\n",
       "    </tr>\n",
       "    <tr>\n",
       "      <th>1</th>\n",
       "      <td>171.199524</td>\n",
       "      <td>1</td>\n",
       "      <td>2</td>\n",
       "      <td>Markazi</td>\n",
       "      <td>1</td>\n",
       "      <td>OwnedEstateLand</td>\n",
       "      <td>3</td>\n",
       "      <td>70.0</td>\n",
       "      <td>3.0</td>\n",
       "      <td>WoodKesht</td>\n",
       "      <td>...</td>\n",
       "      <td>2.0</td>\n",
       "      <td>0.0</td>\n",
       "      <td>43000000.0</td>\n",
       "      <td>10920000.0</td>\n",
       "      <td>5.392000e+07</td>\n",
       "      <td>4.493333e+06</td>\n",
       "      <td>98</td>\n",
       "      <td>R</td>\n",
       "      <td>2</td>\n",
       "      <td>120026.344086</td>\n",
       "    </tr>\n",
       "    <tr>\n",
       "      <th>2</th>\n",
       "      <td>171.199524</td>\n",
       "      <td>1</td>\n",
       "      <td>2</td>\n",
       "      <td>Markazi</td>\n",
       "      <td>1</td>\n",
       "      <td>OwnedEstateLand</td>\n",
       "      <td>3</td>\n",
       "      <td>100.0</td>\n",
       "      <td>3.0</td>\n",
       "      <td>MetalBlock</td>\n",
       "      <td>...</td>\n",
       "      <td>2.0</td>\n",
       "      <td>214500000.0</td>\n",
       "      <td>0.0</td>\n",
       "      <td>10920000.0</td>\n",
       "      <td>2.254200e+08</td>\n",
       "      <td>1.878500e+07</td>\n",
       "      <td>98</td>\n",
       "      <td>R</td>\n",
       "      <td>2</td>\n",
       "      <td>120026.344086</td>\n",
       "    </tr>\n",
       "    <tr>\n",
       "      <th>3</th>\n",
       "      <td>171.199524</td>\n",
       "      <td>1</td>\n",
       "      <td>1</td>\n",
       "      <td>Markazi</td>\n",
       "      <td>1</td>\n",
       "      <td>OwnedEstateLand</td>\n",
       "      <td>4</td>\n",
       "      <td>100.0</td>\n",
       "      <td>3.0</td>\n",
       "      <td>MetalBlock</td>\n",
       "      <td>...</td>\n",
       "      <td>2.0</td>\n",
       "      <td>0.0</td>\n",
       "      <td>0.0</td>\n",
       "      <td>21840000.0</td>\n",
       "      <td>2.582000e+08</td>\n",
       "      <td>2.151667e+07</td>\n",
       "      <td>98</td>\n",
       "      <td>R</td>\n",
       "      <td>8</td>\n",
       "      <td>120026.344086</td>\n",
       "    </tr>\n",
       "    <tr>\n",
       "      <th>4</th>\n",
       "      <td>171.199524</td>\n",
       "      <td>1</td>\n",
       "      <td>2</td>\n",
       "      <td>Markazi</td>\n",
       "      <td>1</td>\n",
       "      <td>OwnedEstateLand</td>\n",
       "      <td>3</td>\n",
       "      <td>100.0</td>\n",
       "      <td>3.0</td>\n",
       "      <td>MetalBlock</td>\n",
       "      <td>...</td>\n",
       "      <td>2.0</td>\n",
       "      <td>0.0</td>\n",
       "      <td>0.0</td>\n",
       "      <td>27300000.0</td>\n",
       "      <td>2.433000e+08</td>\n",
       "      <td>2.027500e+07</td>\n",
       "      <td>98</td>\n",
       "      <td>R</td>\n",
       "      <td>5</td>\n",
       "      <td>120026.344086</td>\n",
       "    </tr>\n",
       "    <tr>\n",
       "      <th>...</th>\n",
       "      <td>...</td>\n",
       "      <td>...</td>\n",
       "      <td>...</td>\n",
       "      <td>...</td>\n",
       "      <td>...</td>\n",
       "      <td>...</td>\n",
       "      <td>...</td>\n",
       "      <td>...</td>\n",
       "      <td>...</td>\n",
       "      <td>...</td>\n",
       "      <td>...</td>\n",
       "      <td>...</td>\n",
       "      <td>...</td>\n",
       "      <td>...</td>\n",
       "      <td>...</td>\n",
       "      <td>...</td>\n",
       "      <td>...</td>\n",
       "      <td>...</td>\n",
       "      <td>...</td>\n",
       "      <td>...</td>\n",
       "      <td>...</td>\n",
       "    </tr>\n",
       "    <tr>\n",
       "      <th>151780</th>\n",
       "      <td>2154.650617</td>\n",
       "      <td>1</td>\n",
       "      <td>1</td>\n",
       "      <td>Alborz</td>\n",
       "      <td>6</td>\n",
       "      <td>OwnedEstateLand</td>\n",
       "      <td>3</td>\n",
       "      <td>85.0</td>\n",
       "      <td>1.0</td>\n",
       "      <td>9thtype</td>\n",
       "      <td>...</td>\n",
       "      <td>2.0</td>\n",
       "      <td>0.0</td>\n",
       "      <td>26220000.0</td>\n",
       "      <td>5040000.0</td>\n",
       "      <td>8.248600e+08</td>\n",
       "      <td>6.873833e+07</td>\n",
       "      <td>1401</td>\n",
       "      <td>U</td>\n",
       "      <td>2</td>\n",
       "      <td>310896.881720</td>\n",
       "    </tr>\n",
       "    <tr>\n",
       "      <th>151781</th>\n",
       "      <td>2154.650617</td>\n",
       "      <td>1</td>\n",
       "      <td>1</td>\n",
       "      <td>Alborz</td>\n",
       "      <td>6</td>\n",
       "      <td>OwnedEstateLand</td>\n",
       "      <td>3</td>\n",
       "      <td>100.0</td>\n",
       "      <td>1.0</td>\n",
       "      <td>9thtype</td>\n",
       "      <td>...</td>\n",
       "      <td>2.0</td>\n",
       "      <td>0.0</td>\n",
       "      <td>138370000.0</td>\n",
       "      <td>9135000.0</td>\n",
       "      <td>1.197105e+09</td>\n",
       "      <td>9.975875e+07</td>\n",
       "      <td>1401</td>\n",
       "      <td>U</td>\n",
       "      <td>7</td>\n",
       "      <td>310896.881720</td>\n",
       "    </tr>\n",
       "    <tr>\n",
       "      <th>151782</th>\n",
       "      <td>2154.650617</td>\n",
       "      <td>1</td>\n",
       "      <td>1</td>\n",
       "      <td>Alborz</td>\n",
       "      <td>6</td>\n",
       "      <td>OwnedEstateLand</td>\n",
       "      <td>3</td>\n",
       "      <td>80.0</td>\n",
       "      <td>3.0</td>\n",
       "      <td>MetalBlock</td>\n",
       "      <td>...</td>\n",
       "      <td>2.0</td>\n",
       "      <td>0.0</td>\n",
       "      <td>776400000.0</td>\n",
       "      <td>5040000.0</td>\n",
       "      <td>1.501440e+09</td>\n",
       "      <td>1.251200e+08</td>\n",
       "      <td>1401</td>\n",
       "      <td>U</td>\n",
       "      <td>7</td>\n",
       "      <td>310896.881720</td>\n",
       "    </tr>\n",
       "    <tr>\n",
       "      <th>151783</th>\n",
       "      <td>2154.650617</td>\n",
       "      <td>1</td>\n",
       "      <td>2</td>\n",
       "      <td>Alborz</td>\n",
       "      <td>6</td>\n",
       "      <td>OwnedEstateLand</td>\n",
       "      <td>3</td>\n",
       "      <td>90.0</td>\n",
       "      <td>1.0</td>\n",
       "      <td>9thtype</td>\n",
       "      <td>...</td>\n",
       "      <td>2.0</td>\n",
       "      <td>0.0</td>\n",
       "      <td>38370000.0</td>\n",
       "      <td>9135000.0</td>\n",
       "      <td>1.594705e+09</td>\n",
       "      <td>1.328921e+08</td>\n",
       "      <td>1401</td>\n",
       "      <td>U</td>\n",
       "      <td>3</td>\n",
       "      <td>310896.881720</td>\n",
       "    </tr>\n",
       "    <tr>\n",
       "      <th>151784</th>\n",
       "      <td>2154.650617</td>\n",
       "      <td>1</td>\n",
       "      <td>1</td>\n",
       "      <td>Alborz</td>\n",
       "      <td>6</td>\n",
       "      <td>Rent</td>\n",
       "      <td>3</td>\n",
       "      <td>75.0</td>\n",
       "      <td>1.0</td>\n",
       "      <td>9thtype</td>\n",
       "      <td>...</td>\n",
       "      <td>2.0</td>\n",
       "      <td>900000000.0</td>\n",
       "      <td>38370000.0</td>\n",
       "      <td>9135000.0</td>\n",
       "      <td>9.475050e+08</td>\n",
       "      <td>7.895875e+07</td>\n",
       "      <td>1401</td>\n",
       "      <td>U</td>\n",
       "      <td>3</td>\n",
       "      <td>310896.881720</td>\n",
       "    </tr>\n",
       "  </tbody>\n",
       "</table>\n",
       "<p>151785 rows × 78 columns</p>\n",
       "</div>"
      ],
      "text/plain": [
       "             weight  khanevartype  Takmil province  town           tenure  \\\n",
       "0        171.199524             1       1  Markazi     1  OwnedEstateLand   \n",
       "1        171.199524             1       2  Markazi     1  OwnedEstateLand   \n",
       "2        171.199524             1       2  Markazi     1  OwnedEstateLand   \n",
       "3        171.199524             1       1  Markazi     1  OwnedEstateLand   \n",
       "4        171.199524             1       2  Markazi     1  OwnedEstateLand   \n",
       "...             ...           ...     ...      ...   ...              ...   \n",
       "151780  2154.650617             1       1   Alborz     6  OwnedEstateLand   \n",
       "151781  2154.650617             1       1   Alborz     6  OwnedEstateLand   \n",
       "151782  2154.650617             1       1   Alborz     6  OwnedEstateLand   \n",
       "151783  2154.650617             1       2   Alborz     6  OwnedEstateLand   \n",
       "151784  2154.650617             1       1   Alborz     6             Rent   \n",
       "\n",
       "        room  space  construction    material  ...  Fasl   Income_s_y  \\\n",
       "0          3  100.0           3.0  MetalBlock  ...   2.0  342000000.0   \n",
       "1          3   70.0           3.0   WoodKesht  ...   2.0          0.0   \n",
       "2          3  100.0           3.0  MetalBlock  ...   2.0  214500000.0   \n",
       "3          4  100.0           3.0  MetalBlock  ...   2.0          0.0   \n",
       "4          3  100.0           3.0  MetalBlock  ...   2.0          0.0   \n",
       "...      ...    ...           ...         ...  ...   ...          ...   \n",
       "151780     3   85.0           1.0     9thtype  ...   2.0          0.0   \n",
       "151781     3  100.0           1.0     9thtype  ...   2.0          0.0   \n",
       "151782     3   80.0           3.0  MetalBlock  ...   2.0          0.0   \n",
       "151783     3   90.0           1.0     9thtype  ...   2.0          0.0   \n",
       "151784     3   75.0           1.0     9thtype  ...   2.0  900000000.0   \n",
       "\n",
       "        sum03_incomes     Subsidy  total_income  total_income_month  year  \\\n",
       "0                 0.0  21840000.0  3.638400e+08        3.032000e+07    98   \n",
       "1          43000000.0  10920000.0  5.392000e+07        4.493333e+06    98   \n",
       "2                 0.0  10920000.0  2.254200e+08        1.878500e+07    98   \n",
       "3                 0.0  21840000.0  2.582000e+08        2.151667e+07    98   \n",
       "4                 0.0  27300000.0  2.433000e+08        2.027500e+07    98   \n",
       "...               ...         ...           ...                 ...   ...   \n",
       "151780     26220000.0   5040000.0  8.248600e+08        6.873833e+07  1401   \n",
       "151781    138370000.0   9135000.0  1.197105e+09        9.975875e+07  1401   \n",
       "151782    776400000.0   5040000.0  1.501440e+09        1.251200e+08  1401   \n",
       "151783     38370000.0   9135000.0  1.594705e+09        1.328921e+08  1401   \n",
       "151784     38370000.0   9135000.0  9.475050e+08        7.895875e+07  1401   \n",
       "\n",
       "        state  members   dollar_price  \n",
       "0           R        4  120026.344086  \n",
       "1           R        2  120026.344086  \n",
       "2           R        2  120026.344086  \n",
       "3           R        8  120026.344086  \n",
       "4           R        5  120026.344086  \n",
       "...       ...      ...            ...  \n",
       "151780      U        2  310896.881720  \n",
       "151781      U        7  310896.881720  \n",
       "151782      U        7  310896.881720  \n",
       "151783      U        3  310896.881720  \n",
       "151784      U        3  310896.881720  \n",
       "\n",
       "[151785 rows x 78 columns]"
      ]
     },
     "execution_count": 2,
     "metadata": {},
     "output_type": "execute_result"
    }
   ],
   "source": [
    "df=pd.read_csv('df.csv').drop(['Address','Car_Fuel','Benzin'],axis=1)\n",
    "df.Costs_sum=df.Costs_sum-df.Cost7\n",
    "df"
   ]
  },
  {
   "cell_type": "code",
   "execution_count": 3,
   "id": "65409fd6-f2a1-4e60-9586-7c024ced5c3b",
   "metadata": {},
   "outputs": [
    {
     "name": "stdout",
     "output_type": "stream",
     "text": [
      "<class 'pandas.core.frame.DataFrame'>\n",
      "RangeIndex: 151785 entries, 0 to 151784\n",
      "Data columns (total 78 columns):\n",
      " #   Column               Non-Null Count   Dtype  \n",
      "---  ------               --------------   -----  \n",
      " 0   weight               151785 non-null  float64\n",
      " 1   khanevartype         151785 non-null  int64  \n",
      " 2   Takmil               151785 non-null  int64  \n",
      " 3   province             151785 non-null  object \n",
      " 4   town                 151785 non-null  int64  \n",
      " 5   tenure               151785 non-null  object \n",
      " 6   room                 151785 non-null  int64  \n",
      " 7   space                151785 non-null  float64\n",
      " 8   construction         151785 non-null  float64\n",
      " 9   material             151785 non-null  object \n",
      " 10  vehicle              151785 non-null  bool   \n",
      " 11  motorcycle           151785 non-null  bool   \n",
      " 12  bicycle              151785 non-null  bool   \n",
      " 13  radio                151785 non-null  bool   \n",
      " 14  radiotape            151785 non-null  bool   \n",
      " 15  TVbw                 151785 non-null  bool   \n",
      " 16  TV                   151785 non-null  bool   \n",
      " 17  VHS_VCD_DVD          151785 non-null  bool   \n",
      " 18  computer             151785 non-null  bool   \n",
      " 19  cellphone            151785 non-null  bool   \n",
      " 20  freezer              151785 non-null  bool   \n",
      " 21  refridgerator        151785 non-null  bool   \n",
      " 22  fridge               151785 non-null  bool   \n",
      " 23  stove                151785 non-null  bool   \n",
      " 24  vacuum               151785 non-null  bool   \n",
      " 25  washingmachine       151785 non-null  bool   \n",
      " 26  sewingmachine        151785 non-null  bool   \n",
      " 27  fan                  151785 non-null  bool   \n",
      " 28  evapcoolingportable  151785 non-null  bool   \n",
      " 29  splitportable        151785 non-null  bool   \n",
      " 30  dishwasher           151785 non-null  bool   \n",
      " 31  microwave            151785 non-null  bool   \n",
      " 32  none                 151785 non-null  bool   \n",
      " 33  pipewater            151785 non-null  bool   \n",
      " 34  electricity          151785 non-null  bool   \n",
      " 35  pipegas              151785 non-null  bool   \n",
      " 36  telephone            151785 non-null  bool   \n",
      " 37  internet             151785 non-null  bool   \n",
      " 38  bathroom             151785 non-null  bool   \n",
      " 39  kitchen              151785 non-null  bool   \n",
      " 40  evapcooling          151785 non-null  bool   \n",
      " 41  centralcooling       151785 non-null  bool   \n",
      " 42  centralheating       151785 non-null  bool   \n",
      " 43  package              151785 non-null  bool   \n",
      " 44  split                151785 non-null  bool   \n",
      " 45  wastewater           151785 non-null  bool   \n",
      " 46  cookingfuel          151785 non-null  object \n",
      " 47  heatingfuel          151785 non-null  object \n",
      " 48  waterheatingfuel     151785 non-null  object \n",
      " 49  Cost1                151785 non-null  float64\n",
      " 50  Cost2                151785 non-null  float64\n",
      " 51  Cost3                151785 non-null  float64\n",
      " 52  Cost4                151785 non-null  float64\n",
      " 53  Cost5                151785 non-null  float64\n",
      " 54  Cost6                151785 non-null  float64\n",
      " 55  Cost7                151785 non-null  float64\n",
      " 56  Cost8                151785 non-null  float64\n",
      " 57  Cost9                151785 non-null  float64\n",
      " 58  Cost11               151785 non-null  float64\n",
      " 59  Cost12               151785 non-null  float64\n",
      " 60  Cost13               151785 non-null  float64\n",
      " 61  Cost14               151785 non-null  float64\n",
      " 62  HousePrice1          151785 non-null  float64\n",
      " 63  HousePrice2          151785 non-null  float64\n",
      " 64  Fuel                 151785 non-null  float64\n",
      " 65  Costs_sum            151785 non-null  float64\n",
      " 66  sum_netincome_w_m    151785 non-null  float64\n",
      " 67  sum_netincome_w_y    151785 non-null  float64\n",
      " 68  Fasl                 151785 non-null  float64\n",
      " 69  Income_s_y           151785 non-null  float64\n",
      " 70  sum03_incomes        151785 non-null  float64\n",
      " 71  Subsidy              151785 non-null  float64\n",
      " 72  total_income         151785 non-null  float64\n",
      " 73  total_income_month   151785 non-null  float64\n",
      " 74  year                 151785 non-null  int64  \n",
      " 75  state                151785 non-null  object \n",
      " 76  members              151785 non-null  int64  \n",
      " 77  dollar_price         151785 non-null  float64\n",
      "dtypes: bool(36), float64(29), int64(6), object(7)\n",
      "memory usage: 53.8+ MB\n"
     ]
    }
   ],
   "source": [
    "df.info()"
   ]
  },
  {
   "cell_type": "markdown",
   "id": "80cdc943-40ea-4fbd-942f-ecdc7651a834",
   "metadata": {},
   "source": [
    "# Train-Test split , LabelEncoding and StandardScaler"
   ]
  },
  {
   "cell_type": "code",
   "execution_count": 4,
   "id": "d5a1e241-6f87-4a8d-b803-d0a4be7077f5",
   "metadata": {},
   "outputs": [],
   "source": [
    "winter_1401=(df['year']==1401) & (df['Fasl']==4)\n",
    "train=df[~winter_1401]\n",
    "test=df[winter_1401]\n",
    "x_train,y_train=train.drop(['Cost7'],axis=1) ,train.Cost7\n",
    "x_test,y_test=test.drop(['Cost7'],axis=1) ,test.Cost7\n",
    "object_columns=[col for col in x_train.columns if x_train[col].dtypes=='O']\n",
    "from sklearn.preprocessing import LabelEncoder\n",
    "le=LabelEncoder()\n",
    "for col in object_columns:\n",
    "    x_train[col]=le.fit_transform(x_train[col])\n",
    "    x_test[col]=le.transform(x_test[col])\n",
    "from sklearn.preprocessing import  StandardScaler\n",
    "scaler=StandardScaler()\n",
    "columns=x_train.columns\n",
    "x_train=pd.DataFrame(scaler.fit_transform(x_train),columns=columns)\n",
    "x_test=pd.DataFrame(scaler.transform(x_test),columns=columns)"
   ]
  },
  {
   "cell_type": "markdown",
   "id": "c87246a0-3cd1-4cd2-a85d-86ff28d6fd5b",
   "metadata": {},
   "source": [
    "### Linear Regression"
   ]
  },
  {
   "cell_type": "code",
   "execution_count": 5,
   "id": "0ff8ea2a-6909-42da-82ec-3a0cd71054c8",
   "metadata": {},
   "outputs": [
    {
     "name": "stdout",
     "output_type": "stream",
     "text": [
      "Train_Score : 0.2518362139140099 Test_Score : 0.23814007891424813\n"
     ]
    },
    {
     "data": {
      "text/plain": [
       "{'fit_time': array([0.31313515, 0.35937643, 0.31250167, 0.31327486, 3.09411049]),\n",
       " 'score_time': array([0., 0., 0., 0., 0.]),\n",
       " 'test_score': array([0.30874843, 0.27347984, 0.22952271, 0.16592848, 0.21302094]),\n",
       " 'train_score': array([0.23793852, 0.24695776, 0.25571055, 0.27489589, 0.24367834])}"
      ]
     },
     "execution_count": 5,
     "metadata": {},
     "output_type": "execute_result"
    }
   ],
   "source": [
    "from sklearn.linear_model import LinearRegression\n",
    "from sklearn.metrics import r2_score\n",
    "from sklearn.model_selection import cross_validate\n",
    "from sklearn.model_selection import KFold\n",
    "reg=LinearRegression()\n",
    "kFold = KFold(5)\n",
    "out=cross_validate(reg,x_train,y_train,cv = kFold,return_train_score=True,scoring='r2')\n",
    "print('Train_Score :',out['train_score'].mean(),'Test_Score :',out['test_score'].mean())\n",
    "out"
   ]
  },
  {
   "cell_type": "markdown",
   "id": "9e4a4a12-fa74-418e-a243-e83db2207b0a",
   "metadata": {},
   "source": [
    "### RandomForest Regressor"
   ]
  },
  {
   "cell_type": "code",
   "execution_count": 6,
   "id": "e00eeefb-2d2b-41c6-bafd-c62036e33538",
   "metadata": {},
   "outputs": [
    {
     "name": "stdout",
     "output_type": "stream",
     "text": [
      "Train_Score : 0.25990724892691375 Test_Score : 0.18879813527056094\n"
     ]
    },
    {
     "data": {
      "text/plain": [
       "{'fit_time': array([0.59448338, 0.53124833, 0.46128821, 0.48435903, 0.62498927]),\n",
       " 'score_time': array([0.01562977, 0.01562428, 0.0156548 , 0.01572156, 0.01563072]),\n",
       " 'test_score': array([0.24477492, 0.22004282, 0.1801156 , 0.1294177 , 0.16963964]),\n",
       " 'train_score': array([0.22682165, 0.25683444, 0.29792554, 0.25868543, 0.25926919])}"
      ]
     },
     "execution_count": 6,
     "metadata": {},
     "output_type": "execute_result"
    }
   ],
   "source": [
    "from sklearn.ensemble import RandomForestRegressor\n",
    "model=RandomForestRegressor(max_depth=5,max_features=5,n_estimators=10,random_state=42)\n",
    "kFold = KFold(5)\n",
    "out=cross_validate(model,x_train,y_train,cv = kFold,return_train_score=True,scoring='r2')\n",
    "print('Train_Score :',out['train_score'].mean(),'Test_Score :',out['test_score'].mean())\n",
    "out"
   ]
  },
  {
   "cell_type": "code",
   "execution_count": 7,
   "id": "c7ed4322-8d8f-4592-ae64-af7a5ebab6a0",
   "metadata": {},
   "outputs": [
    {
     "name": "stdout",
     "output_type": "stream",
     "text": [
      "Train_Score : 0.339994992071191 Test_Score : 0.20807502386144994\n"
     ]
    },
    {
     "data": {
      "text/plain": [
       "{'fit_time': array([0.84510779, 0.82817316, 0.8751142 , 0.85761786, 0.84548044]),\n",
       " 'score_time': array([0.01563883, 0.03125954, 0.03122401, 0.01570892, 0.01451087]),\n",
       " 'test_score': array([0.29064788, 0.24331351, 0.19030003, 0.13900771, 0.17710597]),\n",
       " 'train_score': array([0.34119967, 0.34722928, 0.36846578, 0.31825445, 0.32482578])}"
      ]
     },
     "execution_count": 7,
     "metadata": {},
     "output_type": "execute_result"
    }
   ],
   "source": [
    "from sklearn.ensemble import RandomForestRegressor\n",
    "model=RandomForestRegressor(max_depth=7,max_features=5,n_estimators=10,random_state=42)\n",
    "kFold = KFold(5)\n",
    "out=cross_validate(model,x_train,y_train,cv = kFold,return_train_score=True,scoring='r2')\n",
    "print('Train_Score :',out['train_score'].mean(),'Test_Score :',out['test_score'].mean())\n",
    "out"
   ]
  },
  {
   "cell_type": "code",
   "execution_count": 8,
   "id": "3ab6493a-bb33-44e6-a55e-a6690416bbfb",
   "metadata": {},
   "outputs": [
    {
     "name": "stdout",
     "output_type": "stream",
     "text": [
      "Train_Score : 0.38162101516247626 Test_Score : 0.21747594559530947\n"
     ]
    },
    {
     "data": {
      "text/plain": [
       "{'fit_time': array([1.56395364, 1.51658225, 1.58040833, 1.64088345, 1.53698087]),\n",
       " 'score_time': array([0.01562524, 0.03125286, 0.01563978, 0.03134274, 0.01562476]),\n",
       " 'test_score': array([0.28812503, 0.26062282, 0.21019424, 0.1528235 , 0.17561414]),\n",
       " 'train_score': array([0.37465389, 0.38985539, 0.40327371, 0.35785229, 0.3824698 ])}"
      ]
     },
     "execution_count": 8,
     "metadata": {},
     "output_type": "execute_result"
    }
   ],
   "source": [
    "from sklearn.ensemble import RandomForestRegressor\n",
    "model=RandomForestRegressor(max_depth=7,max_features=10,n_estimators=10,random_state=42)\n",
    "kFold = KFold(5)\n",
    "out=cross_validate(model,x_train,y_train,cv = kFold,return_train_score=True,scoring='r2')\n",
    "print('Train_Score :',out['train_score'].mean(),'Test_Score :',out['test_score'].mean())\n",
    "out"
   ]
  },
  {
   "cell_type": "markdown",
   "id": "e5bddef9-3991-4056-a596-c2dc8088b9b2",
   "metadata": {},
   "source": [
    "### KNN Regressor"
   ]
  },
  {
   "cell_type": "code",
   "execution_count": 9,
   "id": "3879be27-9f14-4f0e-a3ee-5d60f0735cf1",
   "metadata": {},
   "outputs": [
    {
     "name": "stdout",
     "output_type": "stream",
     "text": [
      "Train_Score : 0.33439972457375555 Test_Score : 0.1680944371760818\n"
     ]
    }
   ],
   "source": [
    "from sklearn.neighbors import KNeighborsRegressor\n",
    "model=KNeighborsRegressor(n_neighbors=11)\n",
    "kFold = KFold(5)\n",
    "out=cross_validate(model,x_train,y_train,cv = kFold,return_train_score=True,scoring='r2')\n",
    "print('Train_Score :',out['train_score'].mean(),'Test_Score :',out['test_score'].mean())"
   ]
  },
  {
   "cell_type": "markdown",
   "id": "84176a49-2e51-42f4-aa2f-642b3aff8905",
   "metadata": {},
   "source": [
    "# Using PCA(30 components), and Train-Test split , LabelEncoding and StandardScaler"
   ]
  },
  {
   "cell_type": "code",
   "execution_count": 10,
   "id": "ad6f2b1c-49c9-4f52-be97-9873940e0321",
   "metadata": {},
   "outputs": [],
   "source": [
    "winter_1401=(df['year']==1401) & (df['Fasl']==4)\n",
    "train=df[~winter_1401]\n",
    "test=df[winter_1401]\n",
    "x_train,y_train=train.drop(['Cost7'],axis=1) ,train.Cost7\n",
    "x_test,y_test=test.drop(['Cost7'],axis=1) ,test.Cost7\n",
    "object_columns=[col for col in x_train.columns if x_train[col].dtypes=='O']\n",
    "from sklearn.preprocessing import LabelEncoder\n",
    "le=LabelEncoder()\n",
    "for col in object_columns:\n",
    "    x_train[col]=le.fit_transform(x_train[col])\n",
    "    x_test[col]=le.transform(x_test[col])\n",
    "\n",
    "from sklearn.decomposition import PCA\n",
    "pca = PCA(n_components=30)\n",
    "x_train=pca.fit_transform(x_train)\n",
    "x_test=pca.transform(x_test)\n",
    "\n",
    "from sklearn.preprocessing import  StandardScaler\n",
    "scaler=StandardScaler()\n",
    "x_train=scaler.fit_transform(x_train)\n",
    "x_test=scaler.transform(x_test)"
   ]
  },
  {
   "cell_type": "markdown",
   "id": "a638149d-6ba3-453e-afc0-fbff32fb4304",
   "metadata": {},
   "source": [
    "### Linear Regression"
   ]
  },
  {
   "cell_type": "code",
   "execution_count": 11,
   "id": "390a1d5a-0606-46cd-a05a-2a6ee46ac4d6",
   "metadata": {},
   "outputs": [
    {
     "name": "stdout",
     "output_type": "stream",
     "text": [
      "Train_Score : 0.2105896968789494 Test_Score : 0.18985259370304294\n"
     ]
    },
    {
     "data": {
      "text/plain": [
       "{'fit_time': array([2.51572132, 2.28123212, 2.40656328, 2.21875334, 2.12525392]),\n",
       " 'score_time': array([0., 0., 0., 0., 0.]),\n",
       " 'test_score': array([0.23175226, 0.22457225, 0.19301687, 0.13203339, 0.1678882 ]),\n",
       " 'train_score': array([0.19805407, 0.20724006, 0.2138376 , 0.23149906, 0.2023177 ])}"
      ]
     },
     "execution_count": 11,
     "metadata": {},
     "output_type": "execute_result"
    }
   ],
   "source": [
    "from sklearn.linear_model import LinearRegression\n",
    "from sklearn.metrics import r2_score\n",
    "from sklearn.model_selection import cross_validate\n",
    "from sklearn.model_selection import KFold\n",
    "reg=LinearRegression()\n",
    "kFold = KFold(5)\n",
    "out=cross_validate(reg,x_train,y_train,cv = kFold,return_train_score=True,scoring='r2')\n",
    "print('Train_Score :',out['train_score'].mean(),'Test_Score :',out['test_score'].mean())\n",
    "out"
   ]
  },
  {
   "cell_type": "markdown",
   "id": "c1874a4a-81ce-47a0-8339-d84bf7bf7006",
   "metadata": {},
   "source": [
    "### RandomForest Regressor"
   ]
  },
  {
   "cell_type": "code",
   "execution_count": 12,
   "id": "d6ad6dec-f4c7-426d-92a1-07747dc7841c",
   "metadata": {},
   "outputs": [
    {
     "name": "stdout",
     "output_type": "stream",
     "text": [
      "Train_Score : 0.3679793378165185 Test_Score : 0.15906524571961175\n"
     ]
    },
    {
     "data": {
      "text/plain": [
       "{'fit_time': array([4.08836746, 4.08103251, 4.0946331 , 4.11052775, 4.08042669]),\n",
       " 'score_time': array([0.01562715, 0.01562643, 0.01563215, 0.01561928, 0.01573229]),\n",
       " 'test_score': array([0.20418972, 0.18758966, 0.15860606, 0.11615022, 0.12879057]),\n",
       " 'train_score': array([0.35623652, 0.37570482, 0.3835256 , 0.3420201 , 0.38240965])}"
      ]
     },
     "execution_count": 12,
     "metadata": {},
     "output_type": "execute_result"
    }
   ],
   "source": [
    "from sklearn.ensemble import RandomForestRegressor\n",
    "model=RandomForestRegressor(max_depth=7,max_features=5,n_estimators=10,random_state=42)\n",
    "kFold = KFold(5)\n",
    "out=cross_validate(model,x_train,y_train,cv = kFold,return_train_score=True,scoring='r2')\n",
    "print('Train_Score :',out['train_score'].mean(),'Test_Score :',out['test_score'].mean())\n",
    "out"
   ]
  },
  {
   "cell_type": "code",
   "execution_count": 13,
   "id": "8243b64c-e24c-42fa-9137-d772411eaf71",
   "metadata": {},
   "outputs": [
    {
     "name": "stdout",
     "output_type": "stream",
     "text": [
      "Train_Score : 0.36457121454612706 Test_Score : 0.16037500767340523\n"
     ]
    },
    {
     "data": {
      "text/plain": [
       "{'fit_time': array([8.04920435, 8.09576011, 8.08042288, 7.94063735, 8.03390503]),\n",
       " 'score_time': array([0.01563072, 0.01562405, 0.01562333, 0.01563501, 0.01563597]),\n",
       " 'test_score': array([0.20885651, 0.17429605, 0.15902025, 0.11909181, 0.14061042]),\n",
       " 'train_score': array([0.35150259, 0.3726831 , 0.37994113, 0.3407786 , 0.37795066])}"
      ]
     },
     "execution_count": 13,
     "metadata": {},
     "output_type": "execute_result"
    }
   ],
   "source": [
    "from sklearn.ensemble import RandomForestRegressor\n",
    "model=RandomForestRegressor(max_depth=7,max_features=10,n_estimators=10,random_state=42)\n",
    "kFold = KFold(5)\n",
    "out=cross_validate(model,x_train,y_train,cv = kFold,return_train_score=True,scoring='r2')\n",
    "print('Train_Score :',out['train_score'].mean(),'Test_Score :',out['test_score'].mean())\n",
    "out"
   ]
  },
  {
   "cell_type": "code",
   "execution_count": 14,
   "id": "e94826ac-7ac0-4651-bd58-a79ef10c5c51",
   "metadata": {},
   "outputs": [
    {
     "name": "stdout",
     "output_type": "stream",
     "text": [
      "Train_Score : 0.4521359207116653 Test_Score : 0.1555406041696682\n"
     ]
    },
    {
     "data": {
      "text/plain": [
       "{'fit_time': array([5.03476214, 5.2892282 , 5.11102438, 5.01692581, 4.91652417]),\n",
       " 'score_time': array([0.01562166, 0.03125238, 0.01563382, 0.01562977, 0.01573396]),\n",
       " 'test_score': array([0.19234276, 0.17239429, 0.17002574, 0.118986  , 0.12395423]),\n",
       " 'train_score': array([0.44780124, 0.45506589, 0.46652542, 0.42504371, 0.46624334])}"
      ]
     },
     "execution_count": 14,
     "metadata": {},
     "output_type": "execute_result"
    }
   ],
   "source": [
    "from sklearn.ensemble import RandomForestRegressor\n",
    "model=RandomForestRegressor(max_depth=9,max_features=5,n_estimators=10,random_state=42)\n",
    "kFold = KFold(5)\n",
    "out=cross_validate(model,x_train,y_train,cv = kFold,return_train_score=True,scoring='r2')\n",
    "print('Train_Score :',out['train_score'].mean(),'Test_Score :',out['test_score'].mean())\n",
    "out"
   ]
  },
  {
   "cell_type": "code",
   "execution_count": 15,
   "id": "463e5540-7a1b-4d9b-8f16-5d6c1dcf5a46",
   "metadata": {},
   "outputs": [
    {
     "name": "stdout",
     "output_type": "stream",
     "text": [
      "Train_Score : 0.28286324838596455 Test_Score : 0.15261244917712974\n"
     ]
    },
    {
     "data": {
      "text/plain": [
       "{'fit_time': array([3.06577182, 3.29909968, 3.29468417, 3.26613808, 3.25154757]),\n",
       " 'score_time': array([0.        , 0.01562667, 0.01563478, 0.01551366, 0.03125191]),\n",
       " 'test_score': array([0.16915997, 0.18609044, 0.14759925, 0.13512252, 0.12509006]),\n",
       " 'train_score': array([0.26500863, 0.28527845, 0.31216632, 0.25442542, 0.29743743])}"
      ]
     },
     "execution_count": 15,
     "metadata": {},
     "output_type": "execute_result"
    }
   ],
   "source": [
    "from sklearn.ensemble import RandomForestRegressor\n",
    "model=RandomForestRegressor(max_depth=5,max_features=5,n_estimators=10,random_state=42)\n",
    "kFold = KFold(5)\n",
    "out=cross_validate(model,x_train,y_train,cv = kFold,return_train_score=True,scoring='r2')\n",
    "print('Train_Score :',out['train_score'].mean(),'Test_Score :',out['test_score'].mean())\n",
    "out"
   ]
  },
  {
   "cell_type": "markdown",
   "id": "78b12164-5729-4779-8962-ade33e00b2fb",
   "metadata": {},
   "source": [
    "# Selecting UseFull Features"
   ]
  },
  {
   "cell_type": "code",
   "execution_count": 16,
   "id": "f9a524cb-3a52-4d4c-aaa4-89a2ba1dcf50",
   "metadata": {},
   "outputs": [
    {
     "data": {
      "text/html": [
       "<div>\n",
       "<style scoped>\n",
       "    .dataframe tbody tr th:only-of-type {\n",
       "        vertical-align: middle;\n",
       "    }\n",
       "\n",
       "    .dataframe tbody tr th {\n",
       "        vertical-align: top;\n",
       "    }\n",
       "\n",
       "    .dataframe thead th {\n",
       "        text-align: right;\n",
       "    }\n",
       "</style>\n",
       "<table border=\"1\" class=\"dataframe\">\n",
       "  <thead>\n",
       "    <tr style=\"text-align: right;\">\n",
       "      <th></th>\n",
       "      <th>Fuel</th>\n",
       "      <th>province</th>\n",
       "      <th>town</th>\n",
       "      <th>vehicle</th>\n",
       "      <th>motorcycle</th>\n",
       "      <th>bicycle</th>\n",
       "      <th>total_income_month</th>\n",
       "      <th>year</th>\n",
       "      <th>Fasl</th>\n",
       "      <th>state</th>\n",
       "      <th>...</th>\n",
       "      <th>Cost4</th>\n",
       "      <th>Cost5</th>\n",
       "      <th>Cost6</th>\n",
       "      <th>Cost7</th>\n",
       "      <th>Cost8</th>\n",
       "      <th>Cost9</th>\n",
       "      <th>Cost11</th>\n",
       "      <th>Cost12</th>\n",
       "      <th>Cost13</th>\n",
       "      <th>Cost14</th>\n",
       "    </tr>\n",
       "  </thead>\n",
       "  <tbody>\n",
       "    <tr>\n",
       "      <th>0</th>\n",
       "      <td>1020000.0</td>\n",
       "      <td>Markazi</td>\n",
       "      <td>1</td>\n",
       "      <td>False</td>\n",
       "      <td>True</td>\n",
       "      <td>False</td>\n",
       "      <td>3.032000e+07</td>\n",
       "      <td>98</td>\n",
       "      <td>2.0</td>\n",
       "      <td>R</td>\n",
       "      <td>...</td>\n",
       "      <td>5170000.0</td>\n",
       "      <td>310000.0</td>\n",
       "      <td>0.0</td>\n",
       "      <td>750000.0</td>\n",
       "      <td>420000.0</td>\n",
       "      <td>0.0</td>\n",
       "      <td>0.0</td>\n",
       "      <td>2700000.0</td>\n",
       "      <td>6.321355e+07</td>\n",
       "      <td>0.0</td>\n",
       "    </tr>\n",
       "    <tr>\n",
       "      <th>1</th>\n",
       "      <td>510000.0</td>\n",
       "      <td>Markazi</td>\n",
       "      <td>1</td>\n",
       "      <td>False</td>\n",
       "      <td>False</td>\n",
       "      <td>False</td>\n",
       "      <td>4.493333e+06</td>\n",
       "      <td>98</td>\n",
       "      <td>2.0</td>\n",
       "      <td>R</td>\n",
       "      <td>...</td>\n",
       "      <td>4790000.0</td>\n",
       "      <td>50000.0</td>\n",
       "      <td>1500000.0</td>\n",
       "      <td>370000.0</td>\n",
       "      <td>264000.0</td>\n",
       "      <td>0.0</td>\n",
       "      <td>0.0</td>\n",
       "      <td>100000.0</td>\n",
       "      <td>3.856000e+07</td>\n",
       "      <td>0.0</td>\n",
       "    </tr>\n",
       "    <tr>\n",
       "      <th>2</th>\n",
       "      <td>760000.0</td>\n",
       "      <td>Markazi</td>\n",
       "      <td>1</td>\n",
       "      <td>True</td>\n",
       "      <td>False</td>\n",
       "      <td>False</td>\n",
       "      <td>1.878500e+07</td>\n",
       "      <td>98</td>\n",
       "      <td>2.0</td>\n",
       "      <td>R</td>\n",
       "      <td>...</td>\n",
       "      <td>3510000.0</td>\n",
       "      <td>360000.0</td>\n",
       "      <td>570000.0</td>\n",
       "      <td>1000000.0</td>\n",
       "      <td>300000.0</td>\n",
       "      <td>0.0</td>\n",
       "      <td>0.0</td>\n",
       "      <td>530000.0</td>\n",
       "      <td>2.088878e+07</td>\n",
       "      <td>0.0</td>\n",
       "    </tr>\n",
       "    <tr>\n",
       "      <th>3</th>\n",
       "      <td>1000000.0</td>\n",
       "      <td>Markazi</td>\n",
       "      <td>1</td>\n",
       "      <td>True</td>\n",
       "      <td>False</td>\n",
       "      <td>False</td>\n",
       "      <td>2.151667e+07</td>\n",
       "      <td>98</td>\n",
       "      <td>2.0</td>\n",
       "      <td>R</td>\n",
       "      <td>...</td>\n",
       "      <td>3400000.0</td>\n",
       "      <td>390000.0</td>\n",
       "      <td>345000.0</td>\n",
       "      <td>1050000.0</td>\n",
       "      <td>400000.0</td>\n",
       "      <td>150000.0</td>\n",
       "      <td>0.0</td>\n",
       "      <td>920000.0</td>\n",
       "      <td>8.886780e+07</td>\n",
       "      <td>0.0</td>\n",
       "    </tr>\n",
       "    <tr>\n",
       "      <th>4</th>\n",
       "      <td>870000.0</td>\n",
       "      <td>Markazi</td>\n",
       "      <td>1</td>\n",
       "      <td>False</td>\n",
       "      <td>False</td>\n",
       "      <td>False</td>\n",
       "      <td>2.027500e+07</td>\n",
       "      <td>98</td>\n",
       "      <td>2.0</td>\n",
       "      <td>R</td>\n",
       "      <td>...</td>\n",
       "      <td>3605000.0</td>\n",
       "      <td>700000.0</td>\n",
       "      <td>0.0</td>\n",
       "      <td>350000.0</td>\n",
       "      <td>450000.0</td>\n",
       "      <td>0.0</td>\n",
       "      <td>300000.0</td>\n",
       "      <td>790000.0</td>\n",
       "      <td>1.101894e+07</td>\n",
       "      <td>0.0</td>\n",
       "    </tr>\n",
       "    <tr>\n",
       "      <th>...</th>\n",
       "      <td>...</td>\n",
       "      <td>...</td>\n",
       "      <td>...</td>\n",
       "      <td>...</td>\n",
       "      <td>...</td>\n",
       "      <td>...</td>\n",
       "      <td>...</td>\n",
       "      <td>...</td>\n",
       "      <td>...</td>\n",
       "      <td>...</td>\n",
       "      <td>...</td>\n",
       "      <td>...</td>\n",
       "      <td>...</td>\n",
       "      <td>...</td>\n",
       "      <td>...</td>\n",
       "      <td>...</td>\n",
       "      <td>...</td>\n",
       "      <td>...</td>\n",
       "      <td>...</td>\n",
       "      <td>...</td>\n",
       "      <td>...</td>\n",
       "    </tr>\n",
       "    <tr>\n",
       "      <th>151780</th>\n",
       "      <td>990000.0</td>\n",
       "      <td>Alborz</td>\n",
       "      <td>6</td>\n",
       "      <td>True</td>\n",
       "      <td>False</td>\n",
       "      <td>False</td>\n",
       "      <td>6.873833e+07</td>\n",
       "      <td>1401</td>\n",
       "      <td>2.0</td>\n",
       "      <td>U</td>\n",
       "      <td>...</td>\n",
       "      <td>26120000.0</td>\n",
       "      <td>1125000.0</td>\n",
       "      <td>2100000.0</td>\n",
       "      <td>3700000.0</td>\n",
       "      <td>510000.0</td>\n",
       "      <td>0.0</td>\n",
       "      <td>0.0</td>\n",
       "      <td>1380000.0</td>\n",
       "      <td>3.565410e+08</td>\n",
       "      <td>0.0</td>\n",
       "    </tr>\n",
       "    <tr>\n",
       "      <th>151781</th>\n",
       "      <td>1550000.0</td>\n",
       "      <td>Alborz</td>\n",
       "      <td>6</td>\n",
       "      <td>True</td>\n",
       "      <td>False</td>\n",
       "      <td>False</td>\n",
       "      <td>9.975875e+07</td>\n",
       "      <td>1401</td>\n",
       "      <td>2.0</td>\n",
       "      <td>U</td>\n",
       "      <td>...</td>\n",
       "      <td>41620000.0</td>\n",
       "      <td>2900000.0</td>\n",
       "      <td>10000000.0</td>\n",
       "      <td>4300000.0</td>\n",
       "      <td>1300000.0</td>\n",
       "      <td>0.0</td>\n",
       "      <td>600000.0</td>\n",
       "      <td>2250000.0</td>\n",
       "      <td>2.150546e+09</td>\n",
       "      <td>0.0</td>\n",
       "    </tr>\n",
       "    <tr>\n",
       "      <th>151782</th>\n",
       "      <td>800000.0</td>\n",
       "      <td>Alborz</td>\n",
       "      <td>6</td>\n",
       "      <td>False</td>\n",
       "      <td>False</td>\n",
       "      <td>False</td>\n",
       "      <td>1.251200e+08</td>\n",
       "      <td>1401</td>\n",
       "      <td>2.0</td>\n",
       "      <td>U</td>\n",
       "      <td>...</td>\n",
       "      <td>21090000.0</td>\n",
       "      <td>1510000.0</td>\n",
       "      <td>4500000.0</td>\n",
       "      <td>3500000.0</td>\n",
       "      <td>850000.0</td>\n",
       "      <td>0.0</td>\n",
       "      <td>0.0</td>\n",
       "      <td>1800000.0</td>\n",
       "      <td>1.868000e+08</td>\n",
       "      <td>0.0</td>\n",
       "    </tr>\n",
       "    <tr>\n",
       "      <th>151783</th>\n",
       "      <td>930000.0</td>\n",
       "      <td>Alborz</td>\n",
       "      <td>6</td>\n",
       "      <td>True</td>\n",
       "      <td>False</td>\n",
       "      <td>False</td>\n",
       "      <td>1.328921e+08</td>\n",
       "      <td>1401</td>\n",
       "      <td>2.0</td>\n",
       "      <td>U</td>\n",
       "      <td>...</td>\n",
       "      <td>36220000.0</td>\n",
       "      <td>2400000.0</td>\n",
       "      <td>0.0</td>\n",
       "      <td>5600000.0</td>\n",
       "      <td>1445000.0</td>\n",
       "      <td>0.0</td>\n",
       "      <td>0.0</td>\n",
       "      <td>2910000.0</td>\n",
       "      <td>5.075720e+08</td>\n",
       "      <td>0.0</td>\n",
       "    </tr>\n",
       "    <tr>\n",
       "      <th>151784</th>\n",
       "      <td>1400000.0</td>\n",
       "      <td>Alborz</td>\n",
       "      <td>6</td>\n",
       "      <td>True</td>\n",
       "      <td>False</td>\n",
       "      <td>False</td>\n",
       "      <td>7.895875e+07</td>\n",
       "      <td>1401</td>\n",
       "      <td>2.0</td>\n",
       "      <td>U</td>\n",
       "      <td>...</td>\n",
       "      <td>15800000.0</td>\n",
       "      <td>2335000.0</td>\n",
       "      <td>3200000.0</td>\n",
       "      <td>3100000.0</td>\n",
       "      <td>1500000.0</td>\n",
       "      <td>0.0</td>\n",
       "      <td>0.0</td>\n",
       "      <td>2450000.0</td>\n",
       "      <td>2.670000e+07</td>\n",
       "      <td>0.0</td>\n",
       "    </tr>\n",
       "  </tbody>\n",
       "</table>\n",
       "<p>151785 rows × 28 columns</p>\n",
       "</div>"
      ],
      "text/plain": [
       "             Fuel province  town  vehicle  motorcycle  bicycle  \\\n",
       "0       1020000.0  Markazi     1    False        True    False   \n",
       "1        510000.0  Markazi     1    False       False    False   \n",
       "2        760000.0  Markazi     1     True       False    False   \n",
       "3       1000000.0  Markazi     1     True       False    False   \n",
       "4        870000.0  Markazi     1    False       False    False   \n",
       "...           ...      ...   ...      ...         ...      ...   \n",
       "151780   990000.0   Alborz     6     True       False    False   \n",
       "151781  1550000.0   Alborz     6     True       False    False   \n",
       "151782   800000.0   Alborz     6    False       False    False   \n",
       "151783   930000.0   Alborz     6     True       False    False   \n",
       "151784  1400000.0   Alborz     6     True       False    False   \n",
       "\n",
       "        total_income_month  year  Fasl state  ...       Cost4      Cost5  \\\n",
       "0             3.032000e+07    98   2.0     R  ...   5170000.0   310000.0   \n",
       "1             4.493333e+06    98   2.0     R  ...   4790000.0    50000.0   \n",
       "2             1.878500e+07    98   2.0     R  ...   3510000.0   360000.0   \n",
       "3             2.151667e+07    98   2.0     R  ...   3400000.0   390000.0   \n",
       "4             2.027500e+07    98   2.0     R  ...   3605000.0   700000.0   \n",
       "...                    ...   ...   ...   ...  ...         ...        ...   \n",
       "151780        6.873833e+07  1401   2.0     U  ...  26120000.0  1125000.0   \n",
       "151781        9.975875e+07  1401   2.0     U  ...  41620000.0  2900000.0   \n",
       "151782        1.251200e+08  1401   2.0     U  ...  21090000.0  1510000.0   \n",
       "151783        1.328921e+08  1401   2.0     U  ...  36220000.0  2400000.0   \n",
       "151784        7.895875e+07  1401   2.0     U  ...  15800000.0  2335000.0   \n",
       "\n",
       "             Cost6      Cost7      Cost8     Cost9    Cost11     Cost12  \\\n",
       "0              0.0   750000.0   420000.0       0.0       0.0  2700000.0   \n",
       "1        1500000.0   370000.0   264000.0       0.0       0.0   100000.0   \n",
       "2         570000.0  1000000.0   300000.0       0.0       0.0   530000.0   \n",
       "3         345000.0  1050000.0   400000.0  150000.0       0.0   920000.0   \n",
       "4              0.0   350000.0   450000.0       0.0  300000.0   790000.0   \n",
       "...            ...        ...        ...       ...       ...        ...   \n",
       "151780   2100000.0  3700000.0   510000.0       0.0       0.0  1380000.0   \n",
       "151781  10000000.0  4300000.0  1300000.0       0.0  600000.0  2250000.0   \n",
       "151782   4500000.0  3500000.0   850000.0       0.0       0.0  1800000.0   \n",
       "151783         0.0  5600000.0  1445000.0       0.0       0.0  2910000.0   \n",
       "151784   3200000.0  3100000.0  1500000.0       0.0       0.0  2450000.0   \n",
       "\n",
       "              Cost13  Cost14  \n",
       "0       6.321355e+07     0.0  \n",
       "1       3.856000e+07     0.0  \n",
       "2       2.088878e+07     0.0  \n",
       "3       8.886780e+07     0.0  \n",
       "4       1.101894e+07     0.0  \n",
       "...              ...     ...  \n",
       "151780  3.565410e+08     0.0  \n",
       "151781  2.150546e+09     0.0  \n",
       "151782  1.868000e+08     0.0  \n",
       "151783  5.075720e+08     0.0  \n",
       "151784  2.670000e+07     0.0  \n",
       "\n",
       "[151785 rows x 28 columns]"
      ]
     },
     "execution_count": 16,
     "metadata": {},
     "output_type": "execute_result"
    }
   ],
   "source": [
    "columns=['Fuel','province','town','vehicle','motorcycle','bicycle','total_income_month','year','Fasl','state','members','Costs_sum'\n",
    "        ,'sum_netincome_w_y','Income_s_y'\n",
    "        ,'dollar_price']\n",
    "for i in range(1,15):\n",
    "    if i==10:\n",
    "        continue\n",
    "    columns.append('Cost'+str(i))\n",
    "df=df[columns]\n",
    "df"
   ]
  },
  {
   "cell_type": "markdown",
   "id": "45aa82dd-946e-49d2-bf0c-773b1515a833",
   "metadata": {},
   "source": [
    "###  Train-Test split , LabelEncoding and StandardScaler"
   ]
  },
  {
   "cell_type": "code",
   "execution_count": 17,
   "id": "4cd23c00-9380-4d6b-b5cf-34272c93e51f",
   "metadata": {},
   "outputs": [],
   "source": [
    "winter_1401=(df['year']==1401) & (df['Fasl']==4)\n",
    "train=df[~winter_1401]\n",
    "test=df[winter_1401]\n",
    "x_train,y_train=train.drop(['Cost7'],axis=1) ,train.Cost7\n",
    "x_test,y_test=test.drop(['Cost7'],axis=1) ,test.Cost7\n",
    "object_columns=[col for col in x_train.columns if x_train[col].dtypes=='O']\n",
    "from sklearn.preprocessing import LabelEncoder\n",
    "le=LabelEncoder()\n",
    "for col in object_columns:\n",
    "    x_train[col]=le.fit_transform(x_train[col])\n",
    "    x_test[col]=le.transform(x_test[col])\n",
    "from sklearn.preprocessing import  StandardScaler\n",
    "scaler=StandardScaler()\n",
    "columns=x_train.columns\n",
    "x_train=pd.DataFrame(scaler.fit_transform(x_train),columns=columns)\n",
    "x_test=pd.DataFrame(scaler.transform(x_test),columns=columns)"
   ]
  },
  {
   "cell_type": "markdown",
   "id": "d611db84-be81-409a-bf5a-b04969dd7a68",
   "metadata": {},
   "source": [
    "### LinearRegression"
   ]
  },
  {
   "cell_type": "code",
   "execution_count": 18,
   "id": "cade5155-3f38-470a-8e8f-e8a4cc78a880",
   "metadata": {},
   "outputs": [
    {
     "name": "stdout",
     "output_type": "stream",
     "text": [
      "Train_Score : 0.24547707294947138 Test_Score : 0.23779354938862615\n"
     ]
    },
    {
     "data": {
      "text/plain": [
       "{'fit_time': array([1.98462057, 1.61023808, 2.54752398, 2.49998593, 1.93820095]),\n",
       " 'score_time': array([0., 0., 0., 0., 0.]),\n",
       " 'test_score': array([0.31193089, 0.26998448, 0.23097379, 0.16443212, 0.21164646]),\n",
       " 'train_score': array([0.23147848, 0.24074448, 0.24865789, 0.26880014, 0.23770437])}"
      ]
     },
     "execution_count": 18,
     "metadata": {},
     "output_type": "execute_result"
    }
   ],
   "source": [
    "from sklearn.linear_model import LinearRegression\n",
    "from sklearn.metrics import r2_score\n",
    "from sklearn.model_selection import cross_validate\n",
    "from sklearn.model_selection import KFold\n",
    "reg=LinearRegression()\n",
    "kFold = KFold(5)\n",
    "out=cross_validate(reg,x_train,y_train,cv = kFold,return_train_score=True,scoring='r2')\n",
    "print('Train_Score :',out['train_score'].mean(),'Test_Score :',out['test_score'].mean())\n",
    "out"
   ]
  },
  {
   "cell_type": "markdown",
   "id": "68b9bf0f-8674-4b51-842c-ea35b2063513",
   "metadata": {},
   "source": [
    "### RandomForest Regressor"
   ]
  },
  {
   "cell_type": "code",
   "execution_count": 19,
   "id": "fd3d5a5c-43ad-417d-9fc8-7c2a42106285",
   "metadata": {},
   "outputs": [
    {
     "name": "stdout",
     "output_type": "stream",
     "text": [
      "Train_Score : 0.31710481532111673 Test_Score : 0.1943043564674107\n"
     ]
    },
    {
     "data": {
      "text/plain": [
       "{'fit_time': array([1.81313539, 1.82827997, 1.87693167, 1.87535453, 1.90830946]),\n",
       " 'score_time': array([0.01573968, 0.015728  , 0.03122377, 0.0155673 , 0.01562095]),\n",
       " 'test_score': array([0.32369134, 0.25994965, 0.19986578, 0.16277757, 0.02523745]),\n",
       " 'train_score': array([0.29599384, 0.3175377 , 0.35437946, 0.29223917, 0.32537392])}"
      ]
     },
     "execution_count": 19,
     "metadata": {},
     "output_type": "execute_result"
    }
   ],
   "source": [
    "from sklearn.ensemble import RandomForestRegressor\n",
    "model=RandomForestRegressor(max_depth=5,max_features=10,n_estimators=10,random_state=42)\n",
    "kFold = KFold(5)\n",
    "out=cross_validate(model,x_train,y_train,cv = kFold,return_train_score=True,scoring='r2')\n",
    "print('Train_Score :',out['train_score'].mean(),'Test_Score :',out['test_score'].mean())\n",
    "out"
   ]
  },
  {
   "cell_type": "code",
   "execution_count": 20,
   "id": "e7d80ab0-8ac6-4ea9-8607-89203460455b",
   "metadata": {},
   "outputs": [
    {
     "name": "stdout",
     "output_type": "stream",
     "text": [
      "Train_Score : 0.40444942916288706 Test_Score : 0.20799614077591536\n"
     ]
    },
    {
     "data": {
      "text/plain": [
       "{'fit_time': array([2.66554809, 2.55132055, 2.46666026, 2.47163081, 2.52646255]),\n",
       " 'score_time': array([0.03125286, 0.01563168, 0.01563215, 0.03125501, 0.01559019]),\n",
       " 'test_score': array([0.32487593, 0.25793126, 0.21578839, 0.16403459, 0.07735053]),\n",
       " 'train_score': array([0.38657038, 0.41079452, 0.4327669 , 0.38379218, 0.40832317])}"
      ]
     },
     "execution_count": 20,
     "metadata": {},
     "output_type": "execute_result"
    }
   ],
   "source": [
    "from sklearn.ensemble import RandomForestRegressor\n",
    "model=RandomForestRegressor(max_depth=7,max_features=10,n_estimators=10,random_state=42)\n",
    "kFold = KFold(5)\n",
    "out=cross_validate(model,x_train,y_train,cv = kFold,return_train_score=True,scoring='r2')\n",
    "print('Train_Score :',out['train_score'].mean(),'Test_Score :',out['test_score'].mean())\n",
    "out"
   ]
  },
  {
   "cell_type": "code",
   "execution_count": 21,
   "id": "4e6a818b-5353-420f-aa8f-0e2b5de379ff",
   "metadata": {},
   "outputs": [
    {
     "name": "stdout",
     "output_type": "stream",
     "text": [
      "Train_Score : 0.5005544063210355 Test_Score : 0.18700602856375534\n"
     ]
    },
    {
     "data": {
      "text/plain": [
       "{'fit_time': array([3.49278545, 3.35004234, 3.24736786, 3.28476453, 3.23062205]),\n",
       " 'score_time': array([0.01986623, 0.01562476, 0.03126621, 0.02000308, 0.01561666]),\n",
       " 'test_score': array([0.31776727, 0.25073976, 0.17711314, 0.16408962, 0.02532035]),\n",
       " 'train_score': array([0.49126256, 0.51502678, 0.51735971, 0.48321557, 0.49590742])}"
      ]
     },
     "execution_count": 21,
     "metadata": {},
     "output_type": "execute_result"
    }
   ],
   "source": [
    "from sklearn.ensemble import RandomForestRegressor\n",
    "model=RandomForestRegressor(max_depth=9,max_features=10,n_estimators=10,random_state=42)\n",
    "kFold = KFold(5)\n",
    "out=cross_validate(model,x_train,y_train,cv = kFold,return_train_score=True,scoring='r2')\n",
    "print('Train_Score :',out['train_score'].mean(),'Test_Score :',out['test_score'].mean())\n",
    "out"
   ]
  },
  {
   "cell_type": "markdown",
   "id": "a746fd96-8258-401f-8a30-549402853f03",
   "metadata": {},
   "source": [
    "# PolynomialFeatures , Train-Test split , LabelEncoding and StandardScaler"
   ]
  },
  {
   "cell_type": "code",
   "execution_count": 22,
   "id": "2dadcdbf-fe89-4ef1-a106-5ab81bbcbd8c",
   "metadata": {},
   "outputs": [],
   "source": [
    "winter_1401=(df['year']==1401) & (df['Fasl']==4)\n",
    "train=df[~winter_1401]\n",
    "test=df[winter_1401]\n",
    "x_train,y_train=train.drop(['Cost7'],axis=1) ,train.Cost7\n",
    "x_test,y_test=test.drop(['Cost7'],axis=1) ,test.Cost7\n",
    "object_columns=[col for col in x_train.columns if x_train[col].dtypes=='O']\n",
    "from sklearn.preprocessing import LabelEncoder\n",
    "le=LabelEncoder()\n",
    "for col in object_columns:\n",
    "    x_train[col]=le.fit_transform(x_train[col])\n",
    "    x_test[col]=le.transform(x_test[col])\n",
    "\n",
    "from sklearn.preprocessing import PolynomialFeatures\n",
    "poly = PolynomialFeatures(2)\n",
    "x_train=poly.fit_transform(x_train)\n",
    "x_test=poly.transform(x_test)\n",
    "\n",
    "from sklearn.preprocessing import  StandardScaler\n",
    "scaler=StandardScaler()\n",
    "x_train=scaler.fit_transform(x_train)\n",
    "x_test=scaler.transform(x_test)"
   ]
  },
  {
   "cell_type": "markdown",
   "id": "919502b4-f766-4bb3-b537-872de6b79748",
   "metadata": {},
   "source": [
    "### LinearRegression"
   ]
  },
  {
   "cell_type": "code",
   "execution_count": 24,
   "id": "963eb7e2-2840-41f8-8769-f58026051e03",
   "metadata": {},
   "outputs": [
    {
     "name": "stdout",
     "output_type": "stream",
     "text": [
      "Train_Score : 0.30181877066286356 Test_Score : -0.08388021772205238\n"
     ]
    },
    {
     "data": {
      "text/plain": [
       "{'fit_time': array([139.93257451, 108.63223004, 170.31239009, 165.86447382,\n",
       "        153.52650547]),\n",
       " 'score_time': array([0.01574016, 0.01574612, 0.00821257, 0.02645469, 0.0313313 ]),\n",
       " 'test_score': array([ 0.30281348,  0.14835299,  0.1811837 ,  0.12197963, -1.17373089]),\n",
       " 'train_score': array([0.28442363, 0.29863026, 0.30803101, 0.32499082, 0.29301815])}"
      ]
     },
     "execution_count": 24,
     "metadata": {},
     "output_type": "execute_result"
    }
   ],
   "source": [
    "from sklearn.linear_model import LinearRegression\n",
    "from sklearn.metrics import r2_score\n",
    "from sklearn.model_selection import cross_validate\n",
    "from sklearn.model_selection import KFold\n",
    "reg=LinearRegression()\n",
    "kFold = KFold(5)\n",
    "out=cross_validate(reg,x_train,y_train,cv = kFold,return_train_score=True,scoring='r2')\n",
    "print('Train_Score :',out['train_score'].mean(),'Test_Score :',out['test_score'].mean())\n",
    "out"
   ]
  },
  {
   "cell_type": "markdown",
   "id": "f3610e73-39d9-4aec-9dbe-4aaae990ba45",
   "metadata": {},
   "source": [
    "### RandomForest Regressor"
   ]
  },
  {
   "cell_type": "code",
   "execution_count": 25,
   "id": "11c0a51d-3f1b-4334-ba28-5635c6ce5ee2",
   "metadata": {},
   "outputs": [
    {
     "name": "stdout",
     "output_type": "stream",
     "text": [
      "Train_Score : 0.331492753860822 Test_Score : 0.21297822680380296\n"
     ]
    },
    {
     "data": {
      "text/plain": [
       "{'fit_time': array([2.6350534 , 2.39903808, 2.57946324, 2.31870413, 2.39082861]),\n",
       " 'score_time': array([0.0469923 , 0.04684401, 0.04802608, 0.04700112, 0.04699445]),\n",
       " 'test_score': array([0.31631972, 0.26093143, 0.20935224, 0.16269571, 0.11559205]),\n",
       " 'train_score': array([0.31435587, 0.33948538, 0.35644456, 0.30989685, 0.33728111])}"
      ]
     },
     "execution_count": 25,
     "metadata": {},
     "output_type": "execute_result"
    }
   ],
   "source": [
    "from sklearn.ensemble import RandomForestRegressor\n",
    "model=RandomForestRegressor(max_depth=5,max_features=10,n_estimators=10,random_state=42)\n",
    "kFold = KFold(5)\n",
    "out=cross_validate(model,x_train,y_train,cv = kFold,return_train_score=True,scoring='r2')\n",
    "print('Train_Score :',out['train_score'].mean(),'Test_Score :',out['test_score'].mean())\n",
    "out"
   ]
  },
  {
   "cell_type": "code",
   "execution_count": 26,
   "id": "2c0cf43d-2284-457a-8023-3f9aa44634fd",
   "metadata": {},
   "outputs": [
    {
     "name": "stdout",
     "output_type": "stream",
     "text": [
      "Train_Score : 0.5554040185649327 Test_Score : 0.22268660664977674\n"
     ]
    },
    {
     "data": {
      "text/plain": [
       "{'fit_time': array([4.06152201, 4.53777289, 4.35384631, 3.99277425, 4.42031503]),\n",
       " 'score_time': array([0.05003953, 0.06263399, 0.06006742, 0.05437112, 0.06362224]),\n",
       " 'test_score': array([0.32925019, 0.26350621, 0.22355814, 0.14909921, 0.14801928]),\n",
       " 'train_score': array([0.55494164, 0.5693543 , 0.56903387, 0.53502163, 0.54866866])}"
      ]
     },
     "execution_count": 26,
     "metadata": {},
     "output_type": "execute_result"
    }
   ],
   "source": [
    "from sklearn.ensemble import RandomForestRegressor\n",
    "model=RandomForestRegressor(max_depth=10,max_features=10,n_estimators=10,random_state=42)\n",
    "kFold = KFold(5)\n",
    "out=cross_validate(model,x_train,y_train,cv = kFold,return_train_score=True,scoring='r2')\n",
    "print('Train_Score :',out['train_score'].mean(),'Test_Score :',out['test_score'].mean())\n",
    "out"
   ]
  },
  {
   "cell_type": "code",
   "execution_count": 27,
   "id": "1fc3c046-a6fd-42ef-95b9-e568ab1fa722",
   "metadata": {},
   "outputs": [
    {
     "name": "stdout",
     "output_type": "stream",
     "text": [
      "Train_Score : 0.42301920134382004 Test_Score : 0.20611922393307927\n"
     ]
    },
    {
     "data": {
      "text/plain": [
       "{'fit_time': array([6.25625515, 6.26969075, 6.25996256, 6.1901989 , 6.27132773]),\n",
       " 'score_time': array([0.04698348, 0.06212378, 0.06908107, 0.07556701, 0.07514572]),\n",
       " 'test_score': array([0.31162743, 0.27552066, 0.21095543, 0.15699344, 0.07549916]),\n",
       " 'train_score': array([0.40752463, 0.42735775, 0.44486197, 0.40057613, 0.43477553])}"
      ]
     },
     "execution_count": 27,
     "metadata": {},
     "output_type": "execute_result"
    }
   ],
   "source": [
    "from sklearn.ensemble import RandomForestRegressor\n",
    "model=RandomForestRegressor(max_depth=7,max_features=20,n_estimators=10,random_state=42)\n",
    "kFold = KFold(5)\n",
    "out=cross_validate(model,x_train,y_train,cv = kFold,return_train_score=True,scoring='r2')\n",
    "print('Train_Score :',out['train_score'].mean(),'Test_Score :',out['test_score'].mean())\n",
    "out"
   ]
  },
  {
   "cell_type": "markdown",
   "id": "09441496-d617-48e6-82e4-ae167a038c0c",
   "metadata": {},
   "source": [
    "### Doing All things to 98"
   ]
  },
  {
   "cell_type": "code",
   "execution_count": 28,
   "id": "cdc9bde7-8a26-4054-9ff9-a7f399bde955",
   "metadata": {},
   "outputs": [],
   "source": [
    "df_98_all=(df['year']==98)\n",
    "df_98_winter=(df['year']==98) & (df['Fasl']==4)\n",
    "train=df[df_98_all]\n",
    "test=df[df_98_winter]\n",
    "x_train,y_train=train.drop(['Cost7'],axis=1) ,train.Cost7\n",
    "x_test,y_test=test.drop(['Cost7'],axis=1) ,test.Cost7\n",
    "object_columns=[col for col in x_train.columns if x_train[col].dtypes=='O']\n",
    "from sklearn.preprocessing import LabelEncoder\n",
    "le=LabelEncoder()\n",
    "for col in object_columns:\n",
    "    x_train[col]=le.fit_transform(x_train[col])\n",
    "    x_test[col]=le.transform(x_test[col])\n",
    "from sklearn.preprocessing import  StandardScaler\n",
    "scaler=StandardScaler()\n",
    "columns=x_train.columns\n",
    "x_train=pd.DataFrame(scaler.fit_transform(x_train),columns=columns)\n",
    "x_test=pd.DataFrame(scaler.transform(x_test),columns=columns)"
   ]
  },
  {
   "cell_type": "markdown",
   "id": "1306e521-a63d-4edc-943e-d82f90bbd58f",
   "metadata": {},
   "source": [
    "### Linear Regression"
   ]
  },
  {
   "cell_type": "code",
   "execution_count": 32,
   "id": "0fc1e2aa-36a0-453a-89e8-6fbc2fc17558",
   "metadata": {},
   "outputs": [
    {
     "name": "stdout",
     "output_type": "stream",
     "text": [
      "Train_Score : 0.2811871888332133 Test_Score : 0.28115428223387545\n"
     ]
    },
    {
     "data": {
      "text/plain": [
       "{'fit_time': array([1.28876829, 0.79102492, 0.93856239, 0.89050627, 1.06250381]),\n",
       " 'score_time': array([0.        , 0.        , 0.01562858, 0.        , 0.        ]),\n",
       " 'test_score': array([0.30577738, 0.35278836, 0.26879217, 0.29212201, 0.18629149]),\n",
       " 'train_score': array([0.27239802, 0.26684434, 0.27873349, 0.27306185, 0.31489824])}"
      ]
     },
     "execution_count": 32,
     "metadata": {},
     "output_type": "execute_result"
    }
   ],
   "source": [
    "from sklearn.linear_model import LinearRegression\n",
    "from sklearn.metrics import r2_score\n",
    "from sklearn.model_selection import cross_validate\n",
    "from sklearn.model_selection import KFold\n",
    "reg=LinearRegression()\n",
    "kFold = KFold(5)\n",
    "out=cross_validate(reg,x_train,y_train,cv = kFold,return_train_score=True,scoring='r2')\n",
    "print('Train_Score :',out['train_score'].mean(),'Test_Score :',out['test_score'].mean())\n",
    "out"
   ]
  },
  {
   "cell_type": "markdown",
   "id": "d2988871-97cc-4994-b67a-22c938f20a79",
   "metadata": {},
   "source": [
    "### RandomForest Regressor"
   ]
  },
  {
   "cell_type": "code",
   "execution_count": 38,
   "id": "26c57a5b-ba19-40f3-bc3c-c2fca9e55576",
   "metadata": {},
   "outputs": [
    {
     "name": "stdout",
     "output_type": "stream",
     "text": [
      "Train_Score : 0.4722822533510804 Test_Score : 0.28263883961671576\n"
     ]
    },
    {
     "data": {
      "text/plain": [
       "{'fit_time': array([3.10357451, 3.15625596, 2.98522592, 3.26609373, 3.32937503]),\n",
       " 'score_time': array([0.01561356, 0.01559901, 0.015625  , 0.03125453, 0.03127956]),\n",
       " 'test_score': array([0.29481405, 0.34281103, 0.26542191, 0.30546282, 0.20468439]),\n",
       " 'train_score': array([0.47309529, 0.46612535, 0.47564209, 0.47885494, 0.46769359])}"
      ]
     },
     "execution_count": 38,
     "metadata": {},
     "output_type": "execute_result"
    }
   ],
   "source": [
    "from sklearn.ensemble import RandomForestRegressor\n",
    "model=RandomForestRegressor(max_depth=7,max_features=10,n_estimators=50,random_state=42)\n",
    "kFold = KFold(5)\n",
    "out=cross_validate(model,x_train,y_train,cv = kFold,return_train_score=True,scoring='r2')\n",
    "print('Train_Score :',out['train_score'].mean(),'Test_Score :',out['test_score'].mean())\n",
    "out"
   ]
  },
  {
   "cell_type": "markdown",
   "id": "806670e5-214d-4faf-8180-7d75dd8a735e",
   "metadata": {},
   "source": [
    "### KNN Regressor"
   ]
  },
  {
   "cell_type": "code",
   "execution_count": 40,
   "id": "9e36d523-ebf3-47eb-9487-b5e067600ae3",
   "metadata": {},
   "outputs": [
    {
     "name": "stdout",
     "output_type": "stream",
     "text": [
      "Train_Score : 0.2639180491726525 Test_Score : 0.24918169848002353\n"
     ]
    }
   ],
   "source": [
    "from sklearn.neighbors import KNeighborsRegressor\n",
    "model=KNeighborsRegressor(n_neighbors=101)\n",
    "kFold = KFold(5)\n",
    "out=cross_validate(model,x_train,y_train,cv = kFold,return_train_score=True,scoring='r2')\n",
    "print('Train_Score :',out['train_score'].mean(),'Test_Score :',out['test_score'].mean())"
   ]
  },
  {
   "cell_type": "markdown",
   "id": "68443e4a-f46c-4dce-bfb0-c9df4598b079",
   "metadata": {},
   "source": [
    "### Doing All things to 99"
   ]
  },
  {
   "cell_type": "code",
   "execution_count": 42,
   "id": "1c61ee74-5a0b-4b95-b826-787c83e17c7d",
   "metadata": {},
   "outputs": [],
   "source": [
    "df_99_all=(df['year']==99)\n",
    "df_99_winter=(df['year']==99) & (df['Fasl']==4)\n",
    "train=df[df_99_all]\n",
    "test=df[df_99_winter]\n",
    "x_train,y_train=train.drop(['Cost7'],axis=1) ,train.Cost7\n",
    "x_test,y_test=test.drop(['Cost7'],axis=1) ,test.Cost7\n",
    "object_columns=[col for col in x_train.columns if x_train[col].dtypes=='O']\n",
    "from sklearn.preprocessing import LabelEncoder\n",
    "le=LabelEncoder()\n",
    "for col in object_columns:\n",
    "    x_train[col]=le.fit_transform(x_train[col])\n",
    "    x_test[col]=le.transform(x_test[col])\n",
    "from sklearn.preprocessing import  StandardScaler\n",
    "scaler=StandardScaler()\n",
    "columns=x_train.columns\n",
    "x_train=pd.DataFrame(scaler.fit_transform(x_train),columns=columns)\n",
    "x_test=pd.DataFrame(scaler.transform(x_test),columns=columns)"
   ]
  },
  {
   "cell_type": "markdown",
   "id": "d2d14657-5b04-4bb9-8d16-9ee2154a9b4a",
   "metadata": {},
   "source": [
    "### Linear Regression"
   ]
  },
  {
   "cell_type": "code",
   "execution_count": 44,
   "id": "c76c31a6-1bfb-4c36-b0dc-63e165847d5d",
   "metadata": {},
   "outputs": [
    {
     "name": "stdout",
     "output_type": "stream",
     "text": [
      "Train_Score : 0.22460689893581165 Test_Score : 0.2926298942204883\n"
     ]
    },
    {
     "data": {
      "text/plain": [
       "{'fit_time': array([1.        , 1.06251526, 0.96074176, 1.01563025, 1.10924387]),\n",
       " 'score_time': array([0., 0., 0., 0., 0.]),\n",
       " 'test_score': array([0.36038739, 0.41282031, 0.37819243, 0.08003264, 0.2317167 ]),\n",
       " 'train_score': array([0.19626603, 0.19124322, 0.18972268, 0.34955018, 0.1962524 ])}"
      ]
     },
     "execution_count": 44,
     "metadata": {},
     "output_type": "execute_result"
    }
   ],
   "source": [
    "from sklearn.linear_model import LinearRegression\n",
    "from sklearn.metrics import r2_score\n",
    "from sklearn.model_selection import cross_validate\n",
    "from sklearn.model_selection import KFold\n",
    "reg=LinearRegression()\n",
    "kFold = KFold(5)\n",
    "out=cross_validate(reg,x_train,y_train,cv = kFold,return_train_score=True,scoring='r2')\n",
    "print('Train_Score :',out['train_score'].mean(),'Test_Score :',out['test_score'].mean())\n",
    "out"
   ]
  },
  {
   "cell_type": "markdown",
   "id": "18dbebc0-8d51-4eab-b286-77388fb09d0a",
   "metadata": {},
   "source": [
    "### RandomForestRegressor"
   ]
  },
  {
   "cell_type": "code",
   "execution_count": 45,
   "id": "b2090d36-8c58-4da8-896a-187a00ee3a50",
   "metadata": {},
   "outputs": [
    {
     "name": "stdout",
     "output_type": "stream",
     "text": [
      "Train_Score : 0.6439883904893872 Test_Score : 0.28728574339823354\n"
     ]
    },
    {
     "data": {
      "text/plain": [
       "{'fit_time': array([3.3124783 , 3.37500072, 3.45312309, 3.28125453, 3.35932064]),\n",
       " 'score_time': array([0.04687023, 0.03124952, 0.01573873, 0.03125143, 0.03130293]),\n",
       " 'test_score': array([0.37470926, 0.40920233, 0.36883423, 0.07972045, 0.20396245]),\n",
       " 'train_score': array([0.67596124, 0.67512798, 0.65308986, 0.50979483, 0.70596804])}"
      ]
     },
     "execution_count": 45,
     "metadata": {},
     "output_type": "execute_result"
    }
   ],
   "source": [
    "from sklearn.ensemble import RandomForestRegressor\n",
    "model=RandomForestRegressor(max_depth=7,max_features=10,n_estimators=50,random_state=42)\n",
    "kFold = KFold(5)\n",
    "out=cross_validate(model,x_train,y_train,cv = kFold,return_train_score=True,scoring='r2')\n",
    "print('Train_Score :',out['train_score'].mean(),'Test_Score :',out['test_score'].mean())\n",
    "out"
   ]
  },
  {
   "cell_type": "markdown",
   "id": "fa474150-cff7-4300-a3f5-28e8fb885da2",
   "metadata": {},
   "source": [
    "### KNN Regressor"
   ]
  },
  {
   "cell_type": "code",
   "execution_count": 46,
   "id": "52f1fc92-3197-4165-ac30-8beff6becb3f",
   "metadata": {},
   "outputs": [
    {
     "name": "stdout",
     "output_type": "stream",
     "text": [
      "Train_Score : 0.215094739978351 Test_Score : 0.27443237177668056\n"
     ]
    },
    {
     "data": {
      "text/plain": [
       "{'fit_time': array([0.        , 0.        , 0.01562047, 0.01562905, 0.01562548]),\n",
       " 'score_time': array([0.96887112, 0.95312166, 1.04820538, 1.04680252, 1.0156312 ]),\n",
       " 'test_score': array([0.33949972, 0.37047571, 0.3581839 , 0.07911115, 0.22489138]),\n",
       " 'train_score': array([0.18985515, 0.18536945, 0.18096404, 0.33331152, 0.18597354])}"
      ]
     },
     "execution_count": 46,
     "metadata": {},
     "output_type": "execute_result"
    }
   ],
   "source": [
    "from sklearn.neighbors import KNeighborsRegressor\n",
    "model=KNeighborsRegressor(n_neighbors=101)\n",
    "kFold = KFold(5)\n",
    "out=cross_validate(model,x_train,y_train,cv = kFold,return_train_score=True,scoring='r2')\n",
    "print('Train_Score :',out['train_score'].mean(),'Test_Score :',out['test_score'].mean())\n",
    "out"
   ]
  },
  {
   "cell_type": "markdown",
   "id": "dcfeff2c-e679-4b9c-bdb5-201ccb093291",
   "metadata": {},
   "source": [
    "### Doing All things to 1400"
   ]
  },
  {
   "cell_type": "code",
   "execution_count": 47,
   "id": "5a67eb81-564b-4eed-8273-62533dc95c5f",
   "metadata": {},
   "outputs": [],
   "source": [
    "df_1400_all=(df['year']==1400)\n",
    "df_1400_winter=(df['year']==1400) & (df['Fasl']==4)\n",
    "train=df[df_1400_all]\n",
    "test=df[df_1400_winter]\n",
    "x_train,y_train=train.drop(['Cost7'],axis=1) ,train.Cost7\n",
    "x_test,y_test=test.drop(['Cost7'],axis=1) ,test.Cost7\n",
    "object_columns=[col for col in x_train.columns if x_train[col].dtypes=='O']\n",
    "from sklearn.preprocessing import LabelEncoder\n",
    "le=LabelEncoder()\n",
    "for col in object_columns:\n",
    "    x_train[col]=le.fit_transform(x_train[col])\n",
    "    x_test[col]=le.transform(x_test[col])\n",
    "from sklearn.preprocessing import  StandardScaler\n",
    "scaler=StandardScaler()\n",
    "columns=x_train.columns\n",
    "x_train=pd.DataFrame(scaler.fit_transform(x_train),columns=columns)\n",
    "x_test=pd.DataFrame(scaler.transform(x_test),columns=columns)"
   ]
  },
  {
   "cell_type": "markdown",
   "id": "e0aed1d7-f50f-479a-bc19-c829c219fe85",
   "metadata": {},
   "source": [
    "### Linear Regression"
   ]
  },
  {
   "cell_type": "code",
   "execution_count": 48,
   "id": "74f71969-7bfe-42fd-be6c-da758e9312bb",
   "metadata": {},
   "outputs": [
    {
     "name": "stdout",
     "output_type": "stream",
     "text": [
      "Train_Score : 0.25291569621205107 Test_Score : 0.25203331149479374\n"
     ]
    },
    {
     "data": {
      "text/plain": [
       "{'fit_time': array([0.90636373, 0.8593986 , 0.74993992, 0.85941577, 0.89070344]),\n",
       " 'score_time': array([0.        , 0.01575422, 0.01557684, 0.        , 0.        ]),\n",
       " 'test_score': array([0.26571338, 0.31874242, 0.18272873, 0.20772569, 0.28525633]),\n",
       " 'train_score': array([0.24707147, 0.2404818 , 0.27841523, 0.26217005, 0.23643994])}"
      ]
     },
     "execution_count": 48,
     "metadata": {},
     "output_type": "execute_result"
    }
   ],
   "source": [
    "from sklearn.linear_model import LinearRegression\n",
    "from sklearn.metrics import r2_score\n",
    "from sklearn.model_selection import cross_validate\n",
    "from sklearn.model_selection import KFold\n",
    "reg=LinearRegression()\n",
    "kFold = KFold(5)\n",
    "out=cross_validate(reg,x_train,y_train,cv = kFold,return_train_score=True,scoring='r2')\n",
    "print('Train_Score :',out['train_score'].mean(),'Test_Score :',out['test_score'].mean())\n",
    "out"
   ]
  },
  {
   "cell_type": "markdown",
   "id": "2b385d25-e158-46a2-a2b5-9a66368c2835",
   "metadata": {},
   "source": [
    "### RandomForestRegressor"
   ]
  },
  {
   "cell_type": "code",
   "execution_count": 49,
   "id": "414a3caa-6e02-491e-ab64-a1dc23ead82d",
   "metadata": {},
   "outputs": [
    {
     "name": "stdout",
     "output_type": "stream",
     "text": [
      "Train_Score : 0.46812706011689514 Test_Score : 0.2513411661207975\n"
     ]
    },
    {
     "data": {
      "text/plain": [
       "{'fit_time': array([3.06337595, 3.48426652, 3.28125048, 3.20316696, 3.31382155]),\n",
       " 'score_time': array([0.03112864, 0.04690218, 0.01562905, 0.03124547, 0.01551294]),\n",
       " 'test_score': array([0.22675549, 0.32889533, 0.19327797, 0.20595426, 0.30182278]),\n",
       " 'train_score': array([0.48722597, 0.454357  , 0.45771624, 0.46118247, 0.48015361])}"
      ]
     },
     "execution_count": 49,
     "metadata": {},
     "output_type": "execute_result"
    }
   ],
   "source": [
    "from sklearn.ensemble import RandomForestRegressor\n",
    "model=RandomForestRegressor(max_depth=7,max_features=10,n_estimators=50,random_state=42)\n",
    "kFold = KFold(5)\n",
    "out=cross_validate(model,x_train,y_train,cv = kFold,return_train_score=True,scoring='r2')\n",
    "print('Train_Score :',out['train_score'].mean(),'Test_Score :',out['test_score'].mean())\n",
    "out"
   ]
  },
  {
   "cell_type": "markdown",
   "id": "732865c2-cf9f-4cd8-b188-b74bb0142948",
   "metadata": {},
   "source": [
    "### KNN Regressor"
   ]
  },
  {
   "cell_type": "code",
   "execution_count": 50,
   "id": "95b6d7c4-a6a4-4a14-a663-f6b4ef2444f5",
   "metadata": {},
   "outputs": [
    {
     "name": "stdout",
     "output_type": "stream",
     "text": [
      "Train_Score : 0.2486592986902309 Test_Score : 0.2273218113147581\n"
     ]
    },
    {
     "data": {
      "text/plain": [
       "{'fit_time': array([0.        , 0.01561832, 0.01562953, 0.01561928, 0.        ]),\n",
       " 'score_time': array([1.01565313, 1.06243515, 1.20909643, 1.01649761, 1.17195296]),\n",
       " 'test_score': array([0.22444746, 0.3050664 , 0.1629578 , 0.20339834, 0.24073906]),\n",
       " 'train_score': array([0.24345672, 0.23676971, 0.27105225, 0.25722548, 0.23479233])}"
      ]
     },
     "execution_count": 50,
     "metadata": {},
     "output_type": "execute_result"
    }
   ],
   "source": [
    "from sklearn.neighbors import KNeighborsRegressor\n",
    "model=KNeighborsRegressor(n_neighbors=101)\n",
    "kFold = KFold(5)\n",
    "out=cross_validate(model,x_train,y_train,cv = kFold,return_train_score=True,scoring='r2')\n",
    "print('Train_Score :',out['train_score'].mean(),'Test_Score :',out['test_score'].mean())\n",
    "out"
   ]
  },
  {
   "cell_type": "markdown",
   "id": "7076c6e9-c962-4c15-8229-e915961e866c",
   "metadata": {},
   "source": [
    "### Doing All things to 1401"
   ]
  },
  {
   "cell_type": "code",
   "execution_count": 51,
   "id": "43bb2a7e-14d8-481a-8661-9a1dfa5e9d4c",
   "metadata": {},
   "outputs": [],
   "source": [
    "df_1401_all=(df['year']==1401)\n",
    "df_1401_winter=(df['year']==1401) & (df['Fasl']==4)\n",
    "train=df[df_1400_all]\n",
    "test=df[df_1400_winter]\n",
    "x_train,y_train=train.drop(['Cost7'],axis=1) ,train.Cost7\n",
    "x_test,y_test=test.drop(['Cost7'],axis=1) ,test.Cost7\n",
    "object_columns=[col for col in x_train.columns if x_train[col].dtypes=='O']\n",
    "from sklearn.preprocessing import LabelEncoder\n",
    "le=LabelEncoder()\n",
    "for col in object_columns:\n",
    "    x_train[col]=le.fit_transform(x_train[col])\n",
    "    x_test[col]=le.transform(x_test[col])\n",
    "from sklearn.preprocessing import  StandardScaler\n",
    "scaler=StandardScaler()\n",
    "columns=x_train.columns\n",
    "x_train=pd.DataFrame(scaler.fit_transform(x_train),columns=columns)\n",
    "x_test=pd.DataFrame(scaler.transform(x_test),columns=columns)"
   ]
  },
  {
   "cell_type": "markdown",
   "id": "0f9babcc-03db-4ee4-9ca4-18a3ccd0700f",
   "metadata": {},
   "source": [
    "### Linear Regression"
   ]
  },
  {
   "cell_type": "code",
   "execution_count": 52,
   "id": "1813090e-9526-4b36-9427-0115e2aaae69",
   "metadata": {},
   "outputs": [
    {
     "name": "stdout",
     "output_type": "stream",
     "text": [
      "Train_Score : 0.25291569621205107 Test_Score : 0.25203331149479374\n"
     ]
    },
    {
     "data": {
      "text/plain": [
       "{'fit_time': array([0.84496021, 1.06249475, 1.06264329, 0.84373116, 0.99998999]),\n",
       " 'score_time': array([0., 0., 0., 0., 0.]),\n",
       " 'test_score': array([0.26571338, 0.31874242, 0.18272873, 0.20772569, 0.28525633]),\n",
       " 'train_score': array([0.24707147, 0.2404818 , 0.27841523, 0.26217005, 0.23643994])}"
      ]
     },
     "execution_count": 52,
     "metadata": {},
     "output_type": "execute_result"
    }
   ],
   "source": [
    "from sklearn.linear_model import LinearRegression\n",
    "from sklearn.metrics import r2_score\n",
    "from sklearn.model_selection import cross_validate\n",
    "from sklearn.model_selection import KFold\n",
    "reg=LinearRegression()\n",
    "kFold = KFold(5)\n",
    "out=cross_validate(reg,x_train,y_train,cv = kFold,return_train_score=True,scoring='r2')\n",
    "print('Train_Score :',out['train_score'].mean(),'Test_Score :',out['test_score'].mean())\n",
    "out"
   ]
  },
  {
   "cell_type": "markdown",
   "id": "626fe8ba-1cf7-4f19-8b41-8ddb17f3f3b7",
   "metadata": {},
   "source": [
    "### RandomForest Regressor"
   ]
  },
  {
   "cell_type": "code",
   "execution_count": 53,
   "id": "84e3f743-24a2-4c39-ab8e-bb1d9f9f783d",
   "metadata": {},
   "outputs": [
    {
     "name": "stdout",
     "output_type": "stream",
     "text": [
      "Train_Score : 0.46812706011689514 Test_Score : 0.2513411661207975\n"
     ]
    },
    {
     "data": {
      "text/plain": [
       "{'fit_time': array([3.48448634, 3.51562119, 3.34374094, 3.31462979, 3.35930419]),\n",
       " 'score_time': array([0.01562119, 0.03126192, 0.03124666, 0.03125024, 0.03121495]),\n",
       " 'test_score': array([0.22675549, 0.32889533, 0.19327797, 0.20595426, 0.30182278]),\n",
       " 'train_score': array([0.48722597, 0.454357  , 0.45771624, 0.46118247, 0.48015361])}"
      ]
     },
     "execution_count": 53,
     "metadata": {},
     "output_type": "execute_result"
    }
   ],
   "source": [
    "from sklearn.ensemble import RandomForestRegressor\n",
    "model=RandomForestRegressor(max_depth=7,max_features=10,n_estimators=50,random_state=42)\n",
    "kFold = KFold(5)\n",
    "out=cross_validate(model,x_train,y_train,cv = kFold,return_train_score=True,scoring='r2')\n",
    "print('Train_Score :',out['train_score'].mean(),'Test_Score :',out['test_score'].mean())\n",
    "out"
   ]
  },
  {
   "cell_type": "markdown",
   "id": "b2255f85-f479-4d7b-a71c-350af54b52b2",
   "metadata": {},
   "source": [
    "### KNN Regressor"
   ]
  },
  {
   "cell_type": "code",
   "execution_count": 54,
   "id": "3e354aa8-8dbf-4ef7-b850-e4df83f5f477",
   "metadata": {},
   "outputs": [
    {
     "name": "stdout",
     "output_type": "stream",
     "text": [
      "Train_Score : 0.2486592986902309 Test_Score : 0.2273218113147581\n"
     ]
    },
    {
     "data": {
      "text/plain": [
       "{'fit_time': array([0.01559901, 0.01562524, 0.        , 0.        , 0.        ]),\n",
       " 'score_time': array([0.98437452, 1.04686952, 1.15624666, 1.15635419, 1.06249738]),\n",
       " 'test_score': array([0.22444746, 0.3050664 , 0.1629578 , 0.20339834, 0.24073906]),\n",
       " 'train_score': array([0.24345672, 0.23676971, 0.27105225, 0.25722548, 0.23479233])}"
      ]
     },
     "execution_count": 54,
     "metadata": {},
     "output_type": "execute_result"
    }
   ],
   "source": [
    "from sklearn.neighbors import KNeighborsRegressor\n",
    "model=KNeighborsRegressor(n_neighbors=101)\n",
    "kFold = KFold(5)\n",
    "out=cross_validate(model,x_train,y_train,cv = kFold,return_train_score=True,scoring='r2')\n",
    "print('Train_Score :',out['train_score'].mean(),'Test_Score :',out['test_score'].mean())\n",
    "out"
   ]
  },
  {
   "cell_type": "markdown",
   "id": "e6edfffb-ef1d-4124-aaa8-2013f5c2c66a",
   "metadata": {},
   "source": [
    "# tuning the best result"
   ]
  },
  {
   "cell_type": "code",
   "execution_count": 58,
   "id": "73bbb19c-b6ed-4751-afa2-a54021f74e21",
   "metadata": {},
   "outputs": [
    {
     "name": "stdout",
     "output_type": "stream",
     "text": [
      "Train_Score : 0.46022282568197764 Test_Score : 0.25429986206522875\n"
     ]
    },
    {
     "data": {
      "text/plain": [
       "{'fit_time': array([2.73495245, 2.65623784, 2.76566863, 2.62495255, 2.64073873]),\n",
       " 'score_time': array([0.01561642, 0.03114533, 0.03125286, 0.0312171 , 0.01562977]),\n",
       " 'test_score': array([0.22688685, 0.33475023, 0.19373493, 0.20377938, 0.31234793]),\n",
       " 'train_score': array([0.4670669 , 0.45511398, 0.45461492, 0.45786026, 0.46645807])}"
      ]
     },
     "execution_count": 58,
     "metadata": {},
     "output_type": "execute_result"
    }
   ],
   "source": [
    "from sklearn.ensemble import RandomForestRegressor\n",
    "model=RandomForestRegressor(max_depth=7,max_features=8,n_estimators=50,random_state=42)\n",
    "kFold = KFold(5)\n",
    "out=cross_validate(model,x_train,y_train,cv = kFold,return_train_score=True,scoring='r2')\n",
    "print('Train_Score :',out['train_score'].mean(),'Test_Score :',out['test_score'].mean())\n",
    "out"
   ]
  },
  {
   "cell_type": "code",
   "execution_count": 59,
   "id": "2685f7c6-19a8-489a-99a6-d9ebb6eacbe3",
   "metadata": {},
   "outputs": [
    {
     "name": "stdout",
     "output_type": "stream",
     "text": [
      "Train_Score : 0.316560088949658 Test_Score : 0.2518053494718481\n"
     ]
    },
    {
     "data": {
      "text/plain": [
       "{'fit_time': array([1.98476434, 1.96887279, 1.95320845, 1.96872187, 1.93758392]),\n",
       " 'score_time': array([0.03125167, 0.01562166, 0.01562738, 0.01573706, 0.01562929]),\n",
       " 'test_score': array([0.25150908, 0.32814351, 0.18549643, 0.20337041, 0.29050732]),\n",
       " 'train_score': array([0.32414905, 0.29825952, 0.33806109, 0.3155135 , 0.30681728])}"
      ]
     },
     "execution_count": 59,
     "metadata": {},
     "output_type": "execute_result"
    }
   ],
   "source": [
    "from sklearn.ensemble import RandomForestRegressor\n",
    "model=RandomForestRegressor(max_depth=5,max_features=8,n_estimators=50,random_state=42)\n",
    "kFold = KFold(5)\n",
    "out=cross_validate(model,x_train,y_train,cv = kFold,return_train_score=True,scoring='r2')\n",
    "print('Train_Score :',out['train_score'].mean(),'Test_Score :',out['test_score'].mean())\n",
    "out"
   ]
  },
  {
   "cell_type": "code",
   "execution_count": 65,
   "id": "9be62bb3-2d60-4f36-9b65-fc5742912534",
   "metadata": {},
   "outputs": [
    {
     "name": "stdout",
     "output_type": "stream",
     "text": [
      "Train_Score : 0.4613460161993316 Test_Score : 0.25992726844541697\n"
     ]
    },
    {
     "data": {
      "text/plain": [
       "{'fit_time': array([5.30258822, 5.47026849, 6.16403866, 5.23538184, 5.2515986 ]),\n",
       " 'score_time': array([0.0625093 , 0.06249595, 0.06250191, 0.04689574, 0.04677224]),\n",
       " 'test_score': array([0.24679408, 0.33707989, 0.19502798, 0.20843126, 0.31230314]),\n",
       " 'train_score': array([0.46843128, 0.4503345 , 0.45837454, 0.45864226, 0.4709475 ])}"
      ]
     },
     "execution_count": 65,
     "metadata": {},
     "output_type": "execute_result"
    }
   ],
   "source": [
    "from sklearn.ensemble import RandomForestRegressor\n",
    "model=RandomForestRegressor(max_depth=7,max_features=8,n_estimators=100,random_state=42)\n",
    "kFold = KFold(5)\n",
    "out=cross_validate(model,x_train,y_train,cv = kFold,return_train_score=True,scoring='r2')\n",
    "print('Train_Score :',out['train_score'].mean(),'Test_Score :',out['test_score'].mean())\n",
    "out"
   ]
  },
  {
   "cell_type": "markdown",
   "id": "29890fac-83af-4369-af8a-fcbc64324bdb",
   "metadata": {},
   "source": [
    "# Try on Test-Data"
   ]
  },
  {
   "cell_type": "code",
   "execution_count": 69,
   "id": "8cea00b4-904d-4dc9-8639-6a956a0172bb",
   "metadata": {},
   "outputs": [
    {
     "name": "stdout",
     "output_type": "stream",
     "text": [
      "0.4324994749459665\n"
     ]
    }
   ],
   "source": [
    "from sklearn.metrics import r2_score\n",
    "model=RandomForestRegressor(max_depth=7,max_features=8,n_estimators=100,random_state=42)\n",
    "model.fit(x_train,y_train)\n",
    "y_pred=model.predict(x_test)\n",
    "print(r2_score(y_test,y_pred))"
   ]
  }
 ],
 "metadata": {
  "kernelspec": {
   "display_name": "Python 3 (ipykernel)",
   "language": "python",
   "name": "python3"
  },
  "language_info": {
   "codemirror_mode": {
    "name": "ipython",
    "version": 3
   },
   "file_extension": ".py",
   "mimetype": "text/x-python",
   "name": "python",
   "nbconvert_exporter": "python",
   "pygments_lexer": "ipython3",
   "version": "3.9.19"
  }
 },
 "nbformat": 4,
 "nbformat_minor": 5
}
